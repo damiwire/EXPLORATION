{
 "cells": [
  {
   "cell_type": "markdown",
   "id": "dying-fault",
   "metadata": {},
   "source": [
    "프로젝트 (1) load_digits : 손글씨를 분류해 봅시다\n",
    "====="
   ]
  },
  {
   "cell_type": "markdown",
   "id": "lovely-raise",
   "metadata": {},
   "source": [
    "(1) 필요한 모듈 import하기\n",
    "------"
   ]
  },
  {
   "cell_type": "code",
   "execution_count": 1,
   "id": "german-admission",
   "metadata": {},
   "outputs": [],
   "source": [
    "# from sklearn.datasets import load_digits\n",
    "# from sklearn.model_selection import train_test_split\n",
    "# from sklearn.metrics import classification_report\n",
    "# from sklearn.metrics import recall_score\n",
    "# from sklearn.tree import DecisionTreeClassifier\n",
    "# from sklearn import svm\n",
    "# from sklearn.linear_model import SGDClassifier\n",
    "# from sklearn.linear_model import LogisticRegression\n",
    "# from sklearn.ensemble import RandomForestClassifier\n",
    "from sklearn.datasets import load_digits\n",
    "from sklearn.model_selection import train_test_split\n",
    "from sklearn.metrics import classification_report"
   ]
  },
  {
   "cell_type": "markdown",
   "id": "imperial-glenn",
   "metadata": {},
   "source": [
    "(2) 데이터 준비\n",
    "------"
   ]
  },
  {
   "cell_type": "code",
   "execution_count": 2,
   "id": "terminal-legend",
   "metadata": {},
   "outputs": [
    {
     "data": {
      "text/plain": [
       "dict_keys(['data', 'target', 'frame', 'feature_names', 'target_names', 'images', 'DESCR'])"
      ]
     },
     "execution_count": 2,
     "metadata": {},
     "output_type": "execute_result"
    }
   ],
   "source": [
    "digits = load_digits()\n",
    "digits.keys()"
   ]
  },
  {
   "cell_type": "markdown",
   "id": "fresh-discovery",
   "metadata": {},
   "source": [
    "(3) 데이터 이해하기\n",
    "------\n",
    "<br/>\n",
    "지피지기면 백전불태! 다루어야 할 데이터를 자세히 살펴봅시다.<br/>\n",
    "<br/>\n",
    "- Feature Data 지정하기<br/>\n",
    "- Label Data 지정하기<br/>\n",
    "- Target Names 출력해 보기<br/>\n",
    "- 데이터 Describe 해 보기<br/>"
   ]
  },
  {
   "cell_type": "code",
   "execution_count": 3,
   "id": "stylish-hardware",
   "metadata": {},
   "outputs": [
    {
     "data": {
      "text/plain": [
       "\".. _digits_dataset:\\n\\nOptical recognition of handwritten digits dataset\\n--------------------------------------------------\\n\\n**Data Set Characteristics:**\\n\\n    :Number of Instances: 5620\\n    :Number of Attributes: 64\\n    :Attribute Information: 8x8 image of integer pixels in the range 0..16.\\n    :Missing Attribute Values: None\\n    :Creator: E. Alpaydin (alpaydin '@' boun.edu.tr)\\n    :Date: July; 1998\\n\\nThis is a copy of the test set of the UCI ML hand-written digits datasets\\nhttps://archive.ics.uci.edu/ml/datasets/Optical+Recognition+of+Handwritten+Digits\\n\\nThe data set contains images of hand-written digits: 10 classes where\\neach class refers to a digit.\\n\\nPreprocessing programs made available by NIST were used to extract\\nnormalized bitmaps of handwritten digits from a preprinted form. From a\\ntotal of 43 people, 30 contributed to the training set and different 13\\nto the test set. 32x32 bitmaps are divided into nonoverlapping blocks of\\n4x4 and the number of on pixels are counted in each block. This generates\\nan input matrix of 8x8 where each element is an integer in the range\\n0..16. This reduces dimensionality and gives invariance to small\\ndistortions.\\n\\nFor info on NIST preprocessing routines, see M. D. Garris, J. L. Blue, G.\\nT. Candela, D. L. Dimmick, J. Geist, P. J. Grother, S. A. Janet, and C.\\nL. Wilson, NIST Form-Based Handprint Recognition System, NISTIR 5469,\\n1994.\\n\\n.. topic:: References\\n\\n  - C. Kaynak (1995) Methods of Combining Multiple Classifiers and Their\\n    Applications to Handwritten Digit Recognition, MSc Thesis, Institute of\\n    Graduate Studies in Science and Engineering, Bogazici University.\\n  - E. Alpaydin, C. Kaynak (1998) Cascading Classifiers, Kybernetika.\\n  - Ken Tang and Ponnuthurai N. Suganthan and Xi Yao and A. Kai Qin.\\n    Linear dimensionalityreduction using relevance weighted LDA. School of\\n    Electrical and Electronic Engineering Nanyang Technological University.\\n    2005.\\n  - Claudio Gentile. A New Approximate Maximal Margin Classification\\n    Algorithm. NIPS. 2000.\""
      ]
     },
     "execution_count": 3,
     "metadata": {},
     "output_type": "execute_result"
    }
   ],
   "source": [
    "# Feature Data 지정하기\n",
    "digits_data = digits.data\n",
    "digits.DESCR"
   ]
  },
  {
   "cell_type": "code",
   "execution_count": 4,
   "id": "alleged-serial",
   "metadata": {},
   "outputs": [
    {
     "data": {
      "text/plain": [
       "array([0, 1, 2, ..., 8, 9, 8])"
      ]
     },
     "execution_count": 4,
     "metadata": {},
     "output_type": "execute_result"
    }
   ],
   "source": [
    "# Label Data 지정하기\n",
    "digits_label = digits.target\n",
    "digits_label"
   ]
  },
  {
   "cell_type": "code",
   "execution_count": 5,
   "id": "arbitrary-exchange",
   "metadata": {},
   "outputs": [
    {
     "data": {
      "text/plain": [
       "array([0, 1, 2, 3, 4, 5, 6, 7, 8, 9])"
      ]
     },
     "execution_count": 5,
     "metadata": {},
     "output_type": "execute_result"
    }
   ],
   "source": [
    "# Target Names 출력해 보기\n",
    "digits.target_names"
   ]
  },
  {
   "cell_type": "code",
   "execution_count": 6,
   "id": "suspended-initial",
   "metadata": {},
   "outputs": [
    {
     "data": {
      "text/plain": [
       "\".. _digits_dataset:\\n\\nOptical recognition of handwritten digits dataset\\n--------------------------------------------------\\n\\n**Data Set Characteristics:**\\n\\n    :Number of Instances: 5620\\n    :Number of Attributes: 64\\n    :Attribute Information: 8x8 image of integer pixels in the range 0..16.\\n    :Missing Attribute Values: None\\n    :Creator: E. Alpaydin (alpaydin '@' boun.edu.tr)\\n    :Date: July; 1998\\n\\nThis is a copy of the test set of the UCI ML hand-written digits datasets\\nhttps://archive.ics.uci.edu/ml/datasets/Optical+Recognition+of+Handwritten+Digits\\n\\nThe data set contains images of hand-written digits: 10 classes where\\neach class refers to a digit.\\n\\nPreprocessing programs made available by NIST were used to extract\\nnormalized bitmaps of handwritten digits from a preprinted form. From a\\ntotal of 43 people, 30 contributed to the training set and different 13\\nto the test set. 32x32 bitmaps are divided into nonoverlapping blocks of\\n4x4 and the number of on pixels are counted in each block. This generates\\nan input matrix of 8x8 where each element is an integer in the range\\n0..16. This reduces dimensionality and gives invariance to small\\ndistortions.\\n\\nFor info on NIST preprocessing routines, see M. D. Garris, J. L. Blue, G.\\nT. Candela, D. L. Dimmick, J. Geist, P. J. Grother, S. A. Janet, and C.\\nL. Wilson, NIST Form-Based Handprint Recognition System, NISTIR 5469,\\n1994.\\n\\n.. topic:: References\\n\\n  - C. Kaynak (1995) Methods of Combining Multiple Classifiers and Their\\n    Applications to Handwritten Digit Recognition, MSc Thesis, Institute of\\n    Graduate Studies in Science and Engineering, Bogazici University.\\n  - E. Alpaydin, C. Kaynak (1998) Cascading Classifiers, Kybernetika.\\n  - Ken Tang and Ponnuthurai N. Suganthan and Xi Yao and A. Kai Qin.\\n    Linear dimensionalityreduction using relevance weighted LDA. School of\\n    Electrical and Electronic Engineering Nanyang Technological University.\\n    2005.\\n  - Claudio Gentile. A New Approximate Maximal Margin Classification\\n    Algorithm. NIPS. 2000.\""
      ]
     },
     "execution_count": 6,
     "metadata": {},
     "output_type": "execute_result"
    }
   ],
   "source": [
    "# 데이터 Describe 해 보기\n",
    "digits.DESCR"
   ]
  },
  {
   "cell_type": "markdown",
   "id": "backed-consultancy",
   "metadata": {},
   "source": [
    "(4) train, test 데이터 분리\n",
    "-----"
   ]
  },
  {
   "cell_type": "code",
   "execution_count": 7,
   "id": "optional-clearing",
   "metadata": {},
   "outputs": [],
   "source": [
    "x_train, x_test, y_train, y_test = train_test_split(digits_data,\n",
    "                                                   digits_label,\n",
    "                                                   test_size = 0.2,\n",
    "                                                   random_state = 1)"
   ]
  },
  {
   "cell_type": "markdown",
   "id": "external-sheep",
   "metadata": {},
   "source": [
    "(5) 다양한 모델로 학습시켜보기\n",
    "-----------"
   ]
  },
  {
   "cell_type": "code",
   "execution_count": 8,
   "id": "front-clothing",
   "metadata": {},
   "outputs": [
    {
     "data": {
      "text/plain": [
       "0.8388888888888889"
      ]
     },
     "execution_count": 8,
     "metadata": {},
     "output_type": "execute_result"
    }
   ],
   "source": [
    "# Decision Tree 사용해 보기\n",
    "from sklearn.tree import DecisionTreeClassifier\n",
    "from sklearn.metrics import accuracy_score\n",
    "\n",
    "# train\n",
    "decision_tree = DecisionTreeClassifier(random_state=1)\n",
    "decision_tree.fit(x_train, y_train)\n",
    "\n",
    "# test\n",
    "dt_y_pred = decision_tree.predict(x_test)\n",
    "\n",
    "## acc\n",
    "acc = accuracy_score(y_test, dt_y_pred)\n",
    "acc"
   ]
  },
  {
   "cell_type": "code",
   "execution_count": 9,
   "id": "annual-logistics",
   "metadata": {},
   "outputs": [
    {
     "data": {
      "text/plain": [
       "0.9833333333333333"
      ]
     },
     "execution_count": 9,
     "metadata": {},
     "output_type": "execute_result"
    }
   ],
   "source": [
    "# Random Forest 사용해 보기\n",
    "from sklearn.ensemble import RandomForestClassifier\n",
    "from sklearn.metrics import accuracy_score\n",
    "\n",
    "# train\n",
    "random_forest = RandomForestClassifier(random_state=1)\n",
    "random_forest.fit(x_train, y_train)\n",
    "\n",
    "# test\n",
    "rf_y_pred = random_forest.predict(x_test)\n",
    "\n",
    "# acc\n",
    "acc = accuracy_score(y_test, rf_y_pred)\n",
    "acc"
   ]
  },
  {
   "cell_type": "code",
   "execution_count": 10,
   "id": "revolutionary-breeding",
   "metadata": {},
   "outputs": [
    {
     "data": {
      "text/plain": [
       "0.9916666666666667"
      ]
     },
     "execution_count": 10,
     "metadata": {},
     "output_type": "execute_result"
    }
   ],
   "source": [
    "# SVM 사용해 보기\n",
    "from sklearn import svm\n",
    "from sklearn.metrics import accuracy_score\n",
    "\n",
    "# train\n",
    "svm_model = svm.SVC(random_state=1)\n",
    "svm_model.fit(x_train, y_train)\n",
    "\n",
    "# test\n",
    "svm_y_pred = svm_model.predict(x_test)\n",
    "\n",
    "# acc\n",
    "acc = accuracy_score(y_test, svm_y_pred)\n",
    "acc"
   ]
  },
  {
   "cell_type": "code",
   "execution_count": 11,
   "id": "inclusive-philip",
   "metadata": {},
   "outputs": [
    {
     "data": {
      "text/plain": [
       "0.9472222222222222"
      ]
     },
     "execution_count": 11,
     "metadata": {},
     "output_type": "execute_result"
    }
   ],
   "source": [
    "#SGD Classifier 사용해 보기\n",
    "from sklearn.linear_model import SGDClassifier\n",
    "from sklearn.metrics import accuracy_score\n",
    "\n",
    "# train\n",
    "sgd_model = SGDClassifier(random_state=1)\n",
    "sgd_model.fit(x_train, y_train)\n",
    "\n",
    "# test\n",
    "sgd_y_pred = sgd_model.predict(x_test)\n",
    "\n",
    "# acc\n",
    "acc = accuracy_score(y_test, sgd_y_pred)\n",
    "acc"
   ]
  },
  {
   "cell_type": "code",
   "execution_count": 12,
   "id": "convertible-least",
   "metadata": {},
   "outputs": [
    {
     "data": {
      "text/plain": [
       "0.9722222222222222"
      ]
     },
     "execution_count": 12,
     "metadata": {},
     "output_type": "execute_result"
    }
   ],
   "source": [
    "# Logistic Regression 사용해 보기\n",
    "from sklearn.linear_model import LogisticRegression\n",
    "from sklearn.metrics import accuracy_score\n",
    "\n",
    "# train\n",
    "logistic_model = LogisticRegression(max_iter = 3000, random_state=1)\n",
    "logistic_model.fit(x_train, y_train)\n",
    "\n",
    "# test\n",
    "log_y_pred = logistic_model.predict(x_test)\n",
    "\n",
    "# acc\n",
    "acc = accuracy_score(y_test, log_y_pred)\n",
    "acc"
   ]
  },
  {
   "cell_type": "markdown",
   "id": "affected-signature",
   "metadata": {},
   "source": [
    "(6) 모델을 평가해보기\n",
    "----------"
   ]
  },
  {
   "cell_type": "code",
   "execution_count": 13,
   "id": "welsh-maple",
   "metadata": {},
   "outputs": [],
   "source": [
    "from sklearn.metrics import classification_report"
   ]
  },
  {
   "cell_type": "code",
   "execution_count": 14,
   "id": "spanish-escape",
   "metadata": {},
   "outputs": [
    {
     "name": "stdout",
     "output_type": "stream",
     "text": [
      "Decision Tree\n",
      "              precision    recall  f1-score   support\n",
      "\n",
      "           0       1.00      0.93      0.96        43\n",
      "           1       0.91      0.83      0.87        35\n",
      "           2       0.83      0.83      0.83        36\n",
      "           3       0.78      0.71      0.74        41\n",
      "           4       0.82      0.84      0.83        38\n",
      "           5       0.78      0.97      0.87        30\n",
      "           6       0.88      0.97      0.92        37\n",
      "           7       0.78      0.76      0.77        37\n",
      "           8       0.83      0.86      0.85        29\n",
      "           9       0.75      0.71      0.73        34\n",
      "\n",
      "    accuracy                           0.84       360\n",
      "   macro avg       0.84      0.84      0.84       360\n",
      "weighted avg       0.84      0.84      0.84       360\n",
      "\n",
      "------------------------------------------------------\n",
      "\n",
      "Random Forest\n",
      "              precision    recall  f1-score   support\n",
      "\n",
      "           0       0.98      0.95      0.96        43\n",
      "           1       1.00      1.00      1.00        35\n",
      "           2       1.00      1.00      1.00        36\n",
      "           3       1.00      0.98      0.99        41\n",
      "           4       0.95      1.00      0.97        38\n",
      "           5       0.97      1.00      0.98        30\n",
      "           6       1.00      1.00      1.00        37\n",
      "           7       1.00      0.97      0.99        37\n",
      "           8       1.00      0.97      0.98        29\n",
      "           9       0.94      0.97      0.96        34\n",
      "\n",
      "    accuracy                           0.98       360\n",
      "   macro avg       0.98      0.98      0.98       360\n",
      "weighted avg       0.98      0.98      0.98       360\n",
      "\n",
      "------------------------------------------------------\n",
      "\n",
      "SVM\n",
      "              precision    recall  f1-score   support\n",
      "\n",
      "           0       1.00      1.00      1.00        43\n",
      "           1       1.00      1.00      1.00        35\n",
      "           2       1.00      1.00      1.00        36\n",
      "           3       1.00      1.00      1.00        41\n",
      "           4       1.00      1.00      1.00        38\n",
      "           5       0.97      1.00      0.98        30\n",
      "           6       1.00      1.00      1.00        37\n",
      "           7       1.00      0.97      0.99        37\n",
      "           8       1.00      0.97      0.98        29\n",
      "           9       0.94      0.97      0.96        34\n",
      "\n",
      "    accuracy                           0.99       360\n",
      "   macro avg       0.99      0.99      0.99       360\n",
      "weighted avg       0.99      0.99      0.99       360\n",
      "\n",
      "------------------------------------------------------\n",
      "\n",
      "SGD Classifier\n",
      "              precision    recall  f1-score   support\n",
      "\n",
      "           0       1.00      0.95      0.98        43\n",
      "           1       1.00      0.80      0.89        35\n",
      "           2       1.00      1.00      1.00        36\n",
      "           3       1.00      0.90      0.95        41\n",
      "           4       0.97      1.00      0.99        38\n",
      "           5       0.94      1.00      0.97        30\n",
      "           6       0.97      1.00      0.99        37\n",
      "           7       1.00      0.95      0.97        37\n",
      "           8       0.68      0.97      0.80        29\n",
      "           9       0.94      0.91      0.93        34\n",
      "\n",
      "    accuracy                           0.95       360\n",
      "   macro avg       0.95      0.95      0.95       360\n",
      "weighted avg       0.96      0.95      0.95       360\n",
      "\n",
      "------------------------------------------------------\n",
      "\n",
      "Logistic Regression\n",
      "              precision    recall  f1-score   support\n",
      "\n",
      "           0       1.00      0.98      0.99        43\n",
      "           1       0.97      1.00      0.99        35\n",
      "           2       1.00      1.00      1.00        36\n",
      "           3       0.98      0.98      0.98        41\n",
      "           4       0.95      1.00      0.97        38\n",
      "           5       0.88      0.93      0.90        30\n",
      "           6       1.00      1.00      1.00        37\n",
      "           7       1.00      0.95      0.97        37\n",
      "           8       0.93      0.93      0.93        29\n",
      "           9       1.00      0.94      0.97        34\n",
      "\n",
      "    accuracy                           0.97       360\n",
      "   macro avg       0.97      0.97      0.97       360\n",
      "weighted avg       0.97      0.97      0.97       360\n",
      "\n"
     ]
    }
   ],
   "source": [
    "print(\"Decision Tree\")\n",
    "print(classification_report(y_test, dt_y_pred))\n",
    "print(\"------------------------------------------------------\")\n",
    "print()\n",
    "\n",
    "print(\"Random Forest\")\n",
    "print(classification_report(y_test, rf_y_pred))\n",
    "print(\"------------------------------------------------------\")\n",
    "print()\n",
    "\n",
    "print(\"SVM\")\n",
    "print(classification_report(y_test, svm_y_pred))\n",
    "print(\"------------------------------------------------------\")\n",
    "print()\n",
    "\n",
    "print(\"SGD Classifier\")\n",
    "print(classification_report(y_test, sgd_y_pred))\n",
    "print(\"------------------------------------------------------\")\n",
    "print()\n",
    "\n",
    "print(\"Logistic Regression\")\n",
    "print(classification_report(y_test, log_y_pred))"
   ]
  },
  {
   "cell_type": "markdown",
   "id": "horizontal-messenger",
   "metadata": {},
   "source": [
    "* 손글씨 데이터는 모든 숫자를 잘 맞추는것이 중요하므로<br/> confusion matrix의 확인 결과, accuracy 와 F1-score가 높은 <br/> SVM이 성능이 가장 좋은 것을 알 수 있다."
   ]
  },
  {
   "cell_type": "markdown",
   "id": "hindu-thompson",
   "metadata": {},
   "source": [
    "프로젝트 (2) load_wine : 와인을 분류해 봅시다\n",
    "====="
   ]
  },
  {
   "cell_type": "markdown",
   "id": "honest-monitor",
   "metadata": {},
   "source": [
    "(1) 필요한 모듈 import하기\n",
    "-----"
   ]
  },
  {
   "cell_type": "code",
   "execution_count": 15,
   "id": "blessed-timothy",
   "metadata": {},
   "outputs": [],
   "source": [
    "from sklearn.datasets import load_wine\n",
    "from sklearn.model_selection import train_test_split\n",
    "from sklearn.metrics import classification_report"
   ]
  },
  {
   "cell_type": "markdown",
   "id": "exclusive-valuable",
   "metadata": {},
   "source": [
    "(2) 데이터 준비\n",
    "-----"
   ]
  },
  {
   "cell_type": "code",
   "execution_count": 16,
   "id": "after-landing",
   "metadata": {},
   "outputs": [
    {
     "data": {
      "text/plain": [
       "dict_keys(['data', 'target', 'frame', 'target_names', 'DESCR', 'feature_names'])"
      ]
     },
     "execution_count": 16,
     "metadata": {},
     "output_type": "execute_result"
    }
   ],
   "source": [
    "wines = load_wine()\n",
    "wines.keys()"
   ]
  },
  {
   "cell_type": "markdown",
   "id": "noble-venezuela",
   "metadata": {},
   "source": [
    "(3) 데이터 이해하기\n",
    "-----"
   ]
  },
  {
   "cell_type": "code",
   "execution_count": 17,
   "id": "sweet-aurora",
   "metadata": {},
   "outputs": [
    {
     "data": {
      "text/plain": [
       "array([[1.423e+01, 1.710e+00, 2.430e+00, ..., 1.040e+00, 3.920e+00,\n",
       "        1.065e+03],\n",
       "       [1.320e+01, 1.780e+00, 2.140e+00, ..., 1.050e+00, 3.400e+00,\n",
       "        1.050e+03],\n",
       "       [1.316e+01, 2.360e+00, 2.670e+00, ..., 1.030e+00, 3.170e+00,\n",
       "        1.185e+03],\n",
       "       ...,\n",
       "       [1.327e+01, 4.280e+00, 2.260e+00, ..., 5.900e-01, 1.560e+00,\n",
       "        8.350e+02],\n",
       "       [1.317e+01, 2.590e+00, 2.370e+00, ..., 6.000e-01, 1.620e+00,\n",
       "        8.400e+02],\n",
       "       [1.413e+01, 4.100e+00, 2.740e+00, ..., 6.100e-01, 1.600e+00,\n",
       "        5.600e+02]])"
      ]
     },
     "execution_count": 17,
     "metadata": {},
     "output_type": "execute_result"
    }
   ],
   "source": [
    "#Feature Data 지정하기\n",
    "wines_data = wines.data\n",
    "wines_data"
   ]
  },
  {
   "cell_type": "code",
   "execution_count": 18,
   "id": "international-excuse",
   "metadata": {},
   "outputs": [
    {
     "data": {
      "text/plain": [
       "array([0, 0, 0, 0, 0, 0, 0, 0, 0, 0, 0, 0, 0, 0, 0, 0, 0, 0, 0, 0, 0, 0,\n",
       "       0, 0, 0, 0, 0, 0, 0, 0, 0, 0, 0, 0, 0, 0, 0, 0, 0, 0, 0, 0, 0, 0,\n",
       "       0, 0, 0, 0, 0, 0, 0, 0, 0, 0, 0, 0, 0, 0, 0, 1, 1, 1, 1, 1, 1, 1,\n",
       "       1, 1, 1, 1, 1, 1, 1, 1, 1, 1, 1, 1, 1, 1, 1, 1, 1, 1, 1, 1, 1, 1,\n",
       "       1, 1, 1, 1, 1, 1, 1, 1, 1, 1, 1, 1, 1, 1, 1, 1, 1, 1, 1, 1, 1, 1,\n",
       "       1, 1, 1, 1, 1, 1, 1, 1, 1, 1, 1, 1, 1, 1, 1, 1, 1, 1, 1, 1, 2, 2,\n",
       "       2, 2, 2, 2, 2, 2, 2, 2, 2, 2, 2, 2, 2, 2, 2, 2, 2, 2, 2, 2, 2, 2,\n",
       "       2, 2, 2, 2, 2, 2, 2, 2, 2, 2, 2, 2, 2, 2, 2, 2, 2, 2, 2, 2, 2, 2,\n",
       "       2, 2])"
      ]
     },
     "execution_count": 18,
     "metadata": {},
     "output_type": "execute_result"
    }
   ],
   "source": [
    "#Label Data 지정하기\n",
    "wines_label = wines.target\n",
    "wines_label"
   ]
  },
  {
   "cell_type": "code",
   "execution_count": 19,
   "id": "lesser-walker",
   "metadata": {},
   "outputs": [
    {
     "data": {
      "text/plain": [
       "array(['class_0', 'class_1', 'class_2'], dtype='<U7')"
      ]
     },
     "execution_count": 19,
     "metadata": {},
     "output_type": "execute_result"
    }
   ],
   "source": [
    "#Target Names 출력해 보기\n",
    "wines.target_names"
   ]
  },
  {
   "cell_type": "code",
   "execution_count": 20,
   "id": "dramatic-blast",
   "metadata": {},
   "outputs": [
    {
     "data": {
      "text/plain": [
       "'.. _wine_dataset:\\n\\nWine recognition dataset\\n------------------------\\n\\n**Data Set Characteristics:**\\n\\n    :Number of Instances: 178 (50 in each of three classes)\\n    :Number of Attributes: 13 numeric, predictive attributes and the class\\n    :Attribute Information:\\n \\t\\t- Alcohol\\n \\t\\t- Malic acid\\n \\t\\t- Ash\\n\\t\\t- Alcalinity of ash  \\n \\t\\t- Magnesium\\n\\t\\t- Total phenols\\n \\t\\t- Flavanoids\\n \\t\\t- Nonflavanoid phenols\\n \\t\\t- Proanthocyanins\\n\\t\\t- Color intensity\\n \\t\\t- Hue\\n \\t\\t- OD280/OD315 of diluted wines\\n \\t\\t- Proline\\n\\n    - class:\\n            - class_0\\n            - class_1\\n            - class_2\\n\\t\\t\\n    :Summary Statistics:\\n    \\n    ============================= ==== ===== ======= =====\\n                                   Min   Max   Mean     SD\\n    ============================= ==== ===== ======= =====\\n    Alcohol:                      11.0  14.8    13.0   0.8\\n    Malic Acid:                   0.74  5.80    2.34  1.12\\n    Ash:                          1.36  3.23    2.36  0.27\\n    Alcalinity of Ash:            10.6  30.0    19.5   3.3\\n    Magnesium:                    70.0 162.0    99.7  14.3\\n    Total Phenols:                0.98  3.88    2.29  0.63\\n    Flavanoids:                   0.34  5.08    2.03  1.00\\n    Nonflavanoid Phenols:         0.13  0.66    0.36  0.12\\n    Proanthocyanins:              0.41  3.58    1.59  0.57\\n    Colour Intensity:              1.3  13.0     5.1   2.3\\n    Hue:                          0.48  1.71    0.96  0.23\\n    OD280/OD315 of diluted wines: 1.27  4.00    2.61  0.71\\n    Proline:                       278  1680     746   315\\n    ============================= ==== ===== ======= =====\\n\\n    :Missing Attribute Values: None\\n    :Class Distribution: class_0 (59), class_1 (71), class_2 (48)\\n    :Creator: R.A. Fisher\\n    :Donor: Michael Marshall (MARSHALL%PLU@io.arc.nasa.gov)\\n    :Date: July, 1988\\n\\nThis is a copy of UCI ML Wine recognition datasets.\\nhttps://archive.ics.uci.edu/ml/machine-learning-databases/wine/wine.data\\n\\nThe data is the results of a chemical analysis of wines grown in the same\\nregion in Italy by three different cultivators. There are thirteen different\\nmeasurements taken for different constituents found in the three types of\\nwine.\\n\\nOriginal Owners: \\n\\nForina, M. et al, PARVUS - \\nAn Extendible Package for Data Exploration, Classification and Correlation. \\nInstitute of Pharmaceutical and Food Analysis and Technologies,\\nVia Brigata Salerno, 16147 Genoa, Italy.\\n\\nCitation:\\n\\nLichman, M. (2013). UCI Machine Learning Repository\\n[https://archive.ics.uci.edu/ml]. Irvine, CA: University of California,\\nSchool of Information and Computer Science. \\n\\n.. topic:: References\\n\\n  (1) S. Aeberhard, D. Coomans and O. de Vel, \\n  Comparison of Classifiers in High Dimensional Settings, \\n  Tech. Rep. no. 92-02, (1992), Dept. of Computer Science and Dept. of  \\n  Mathematics and Statistics, James Cook University of North Queensland. \\n  (Also submitted to Technometrics). \\n\\n  The data was used with many others for comparing various \\n  classifiers. The classes are separable, though only RDA \\n  has achieved 100% correct classification. \\n  (RDA : 100%, QDA 99.4%, LDA 98.9%, 1NN 96.1% (z-transformed data)) \\n  (All results using the leave-one-out technique) \\n\\n  (2) S. Aeberhard, D. Coomans and O. de Vel, \\n  \"THE CLASSIFICATION PERFORMANCE OF RDA\" \\n  Tech. Rep. no. 92-01, (1992), Dept. of Computer Science and Dept. of \\n  Mathematics and Statistics, James Cook University of North Queensland. \\n  (Also submitted to Journal of Chemometrics).\\n'"
      ]
     },
     "execution_count": 20,
     "metadata": {},
     "output_type": "execute_result"
    }
   ],
   "source": [
    "#데이터 Describe 해 보기\n",
    "wines.DESCR"
   ]
  },
  {
   "cell_type": "markdown",
   "id": "limiting-gender",
   "metadata": {},
   "source": [
    "(4) train, test 데이터 분리\n",
    "-----"
   ]
  },
  {
   "cell_type": "code",
   "execution_count": 21,
   "id": "representative-labor",
   "metadata": {},
   "outputs": [],
   "source": [
    "x_train, x_test, y_train, y_test = train_test_split(wines_data,\n",
    "                                                    wines_label,\n",
    "                                                    test_size = 0.2,\n",
    "                                                    random_state = 2)"
   ]
  },
  {
   "cell_type": "markdown",
   "id": "advance-order",
   "metadata": {},
   "source": [
    "(5) 다양한 모델로 학습시켜보기\n",
    "-----------"
   ]
  },
  {
   "cell_type": "code",
   "execution_count": 22,
   "id": "jewish-innocent",
   "metadata": {},
   "outputs": [
    {
     "data": {
      "text/plain": [
       "0.9444444444444444"
      ]
     },
     "execution_count": 22,
     "metadata": {},
     "output_type": "execute_result"
    }
   ],
   "source": [
    "#Decision Tree 사용해 보기\n",
    "from sklearn.tree import DecisionTreeClassifier\n",
    "from sklearn.metrics import accuracy_score\n",
    "\n",
    "# train\n",
    "decision_tree = DecisionTreeClassifier(random_state=2)\n",
    "decision_tree.fit(x_train, y_train)\n",
    "\n",
    "# test\n",
    "y_pred_dt = decision_tree.predict(x_test)\n",
    "\n",
    "# acc\n",
    "acc = accuracy_score(y_test, y_pred_dt)\n",
    "acc"
   ]
  },
  {
   "cell_type": "code",
   "execution_count": 23,
   "id": "reliable-community",
   "metadata": {},
   "outputs": [
    {
     "data": {
      "text/plain": [
       "1.0"
      ]
     },
     "execution_count": 23,
     "metadata": {},
     "output_type": "execute_result"
    }
   ],
   "source": [
    "#Random Forest 사용해 보기\n",
    "from sklearn.ensemble import RandomForestClassifier\n",
    "from sklearn.metrics import accuracy_score\n",
    "\n",
    "# train\n",
    "random_forest = RandomForestClassifier(random_state=2)\n",
    "random_forest.fit(x_train, y_train)\n",
    "\n",
    "# test\n",
    "y_pred_rf = random_forest.predict(x_test)\n",
    "\n",
    "# acc\n",
    "acc = accuracy_score(y_test, y_pred_rf)\n",
    "acc"
   ]
  },
  {
   "cell_type": "code",
   "execution_count": 24,
   "id": "younger-funds",
   "metadata": {},
   "outputs": [
    {
     "data": {
      "text/plain": [
       "0.6944444444444444"
      ]
     },
     "execution_count": 24,
     "metadata": {},
     "output_type": "execute_result"
    }
   ],
   "source": [
    "#SVM 사용해 보기\n",
    "from sklearn import svm\n",
    "from sklearn.metrics import accuracy_score\n",
    "\n",
    "# train\n",
    "svm_model = svm.SVC(random_state=2)\n",
    "svm_model.fit(x_train, y_train)\n",
    "\n",
    "# test\n",
    "y_pred_svm = svm_model.predict(x_test)\n",
    "\n",
    "# acc\n",
    "acc = accuracy_score(y_test, y_pred_svm)\n",
    "acc"
   ]
  },
  {
   "cell_type": "code",
   "execution_count": 25,
   "id": "awful-share",
   "metadata": {},
   "outputs": [
    {
     "data": {
      "text/plain": [
       "0.75"
      ]
     },
     "execution_count": 25,
     "metadata": {},
     "output_type": "execute_result"
    }
   ],
   "source": [
    "#SGD Classifier 사용해 보기\n",
    "from sklearn.linear_model import SGDClassifier\n",
    "from sklearn.metrics import accuracy_score\n",
    "\n",
    "# train\n",
    "sgd_model = SGDClassifier(random_state=2)\n",
    "sgd_model.fit(x_train, y_train)\n",
    "\n",
    "# test\n",
    "y_pred_sgd = sgd_model.predict(x_test)\n",
    "\n",
    "# acc\n",
    "acc = accuracy_score(y_test, y_pred_sgd)\n",
    "acc"
   ]
  },
  {
   "cell_type": "code",
   "execution_count": 26,
   "id": "efficient-civilization",
   "metadata": {},
   "outputs": [
    {
     "data": {
      "text/plain": [
       "0.9444444444444444"
      ]
     },
     "execution_count": 26,
     "metadata": {},
     "output_type": "execute_result"
    }
   ],
   "source": [
    "#Logistic Regression 사용해 보기\n",
    "from sklearn.linear_model import LogisticRegression\n",
    "from sklearn.metrics import accuracy_score\n",
    "\n",
    "# train\n",
    "logistic_model = LogisticRegression(max_iter = 3000, random_state = 2)\n",
    "logistic_model.fit(x_train, y_train)\n",
    "\n",
    "# test\n",
    "y_pred_log = logistic_model.predict(x_test)\n",
    "\n",
    "# acc\n",
    "acc = accuracy_score(y_test, y_pred_log)\n",
    "acc"
   ]
  },
  {
   "cell_type": "markdown",
   "id": "unknown-metabolism",
   "metadata": {},
   "source": [
    "(6) 모델을 평가해보기\n",
    "----------"
   ]
  },
  {
   "cell_type": "code",
   "execution_count": 27,
   "id": "junior-fairy",
   "metadata": {
    "scrolled": true
   },
   "outputs": [
    {
     "name": "stdout",
     "output_type": "stream",
     "text": [
      "Decision Tree\n",
      "              precision    recall  f1-score   support\n",
      "\n",
      "           0       1.00      0.89      0.94        18\n",
      "           1       0.82      1.00      0.90         9\n",
      "           2       1.00      1.00      1.00         9\n",
      "\n",
      "    accuracy                           0.94        36\n",
      "   macro avg       0.94      0.96      0.95        36\n",
      "weighted avg       0.95      0.94      0.95        36\n",
      "\n",
      "------------------------------------------------------\n",
      "\n",
      "Random Forest\n",
      "              precision    recall  f1-score   support\n",
      "\n",
      "           0       1.00      1.00      1.00        18\n",
      "           1       1.00      1.00      1.00         9\n",
      "           2       1.00      1.00      1.00         9\n",
      "\n",
      "    accuracy                           1.00        36\n",
      "   macro avg       1.00      1.00      1.00        36\n",
      "weighted avg       1.00      1.00      1.00        36\n",
      "\n",
      "------------------------------------------------------\n",
      "\n",
      "SVM\n",
      "              precision    recall  f1-score   support\n",
      "\n",
      "           0       0.94      0.89      0.91        18\n",
      "           1       0.53      1.00      0.69         9\n",
      "           2       0.00      0.00      0.00         9\n",
      "\n",
      "    accuracy                           0.69        36\n",
      "   macro avg       0.49      0.63      0.54        36\n",
      "weighted avg       0.60      0.69      0.63        36\n",
      "\n",
      "------------------------------------------------------\n",
      "\n",
      "SGD Classifier\n",
      "              precision    recall  f1-score   support\n",
      "\n",
      "           0       1.00      0.83      0.91        18\n",
      "           1       0.62      0.89      0.73         9\n",
      "           2       0.50      0.44      0.47         9\n",
      "\n",
      "    accuracy                           0.75        36\n",
      "   macro avg       0.71      0.72      0.70        36\n",
      "weighted avg       0.78      0.75      0.75        36\n",
      "\n",
      "------------------------------------------------------\n",
      "\n",
      "Logistic Regression\n",
      "              precision    recall  f1-score   support\n",
      "\n",
      "           0       1.00      0.94      0.97        18\n",
      "           1       0.82      1.00      0.90         9\n",
      "           2       1.00      0.89      0.94         9\n",
      "\n",
      "    accuracy                           0.94        36\n",
      "   macro avg       0.94      0.94      0.94        36\n",
      "weighted avg       0.95      0.94      0.95        36\n",
      "\n"
     ]
    }
   ],
   "source": [
    "from sklearn.metrics import classification_report\n",
    "\n",
    "print(\"Decision Tree\")\n",
    "print(classification_report(y_test, y_pred_dt))\n",
    "print(\"------------------------------------------------------\")\n",
    "print()\n",
    "\n",
    "print(\"Random Forest\")\n",
    "print(classification_report(y_test, y_pred_rf))\n",
    "print(\"------------------------------------------------------\")\n",
    "print()\n",
    "\n",
    "print(\"SVM\")\n",
    "print(classification_report(y_test, y_pred_svm))\n",
    "print(\"------------------------------------------------------\")\n",
    "print()\n",
    "\n",
    "print(\"SGD Classifier\")\n",
    "print(classification_report(y_test, y_pred_sgd))\n",
    "print(\"------------------------------------------------------\")\n",
    "print()\n",
    "\n",
    "print(\"Logistic Regression\")\n",
    "print(classification_report(y_test, y_pred_log))"
   ]
  },
  {
   "cell_type": "markdown",
   "id": "proprietary-easter",
   "metadata": {},
   "source": [
    "* 와인 데이터의 경우도 모든 와인 데이터를 잘 맞추는것이 중요하므로,<br/> confusion matrix의 확인 결과, accuracy 와 F1-score가 높은 <br/>Random Forest의 성능이 가장 좋은 것을 알 수 있다."
   ]
  },
  {
   "cell_type": "markdown",
   "id": "bacterial-lending",
   "metadata": {},
   "source": [
    "(3) load_breast_cancer : 유방암 여부를 진단해 봅시다\n",
    "======="
   ]
  },
  {
   "cell_type": "markdown",
   "id": "above-philippines",
   "metadata": {},
   "source": [
    "(1) 필요한 모듈 import하기\n",
    "--------"
   ]
  },
  {
   "cell_type": "code",
   "execution_count": 28,
   "id": "adjusted-consultation",
   "metadata": {},
   "outputs": [],
   "source": [
    "from sklearn.datasets import load_breast_cancer\n",
    "from sklearn.model_selection import train_test_split\n",
    "from sklearn.metrics import classification_report"
   ]
  },
  {
   "cell_type": "markdown",
   "id": "upper-upset",
   "metadata": {},
   "source": [
    "(2) 데이터 준비\n",
    "-----"
   ]
  },
  {
   "cell_type": "code",
   "execution_count": 29,
   "id": "guilty-damages",
   "metadata": {},
   "outputs": [
    {
     "data": {
      "text/plain": [
       "dict_keys(['data', 'target', 'frame', 'target_names', 'DESCR', 'feature_names', 'filename'])"
      ]
     },
     "execution_count": 29,
     "metadata": {},
     "output_type": "execute_result"
    }
   ],
   "source": [
    "br_cancer = load_breast_cancer()\n",
    "br_cancer.keys()"
   ]
  },
  {
   "cell_type": "markdown",
   "id": "generic-performer",
   "metadata": {},
   "source": [
    "(3) 데이터 이해하기\n",
    "-----"
   ]
  },
  {
   "cell_type": "code",
   "execution_count": 30,
   "id": "interested-experience",
   "metadata": {},
   "outputs": [
    {
     "data": {
      "text/plain": [
       "array([[1.799e+01, 1.038e+01, 1.228e+02, ..., 2.654e-01, 4.601e-01,\n",
       "        1.189e-01],\n",
       "       [2.057e+01, 1.777e+01, 1.329e+02, ..., 1.860e-01, 2.750e-01,\n",
       "        8.902e-02],\n",
       "       [1.969e+01, 2.125e+01, 1.300e+02, ..., 2.430e-01, 3.613e-01,\n",
       "        8.758e-02],\n",
       "       ...,\n",
       "       [1.660e+01, 2.808e+01, 1.083e+02, ..., 1.418e-01, 2.218e-01,\n",
       "        7.820e-02],\n",
       "       [2.060e+01, 2.933e+01, 1.401e+02, ..., 2.650e-01, 4.087e-01,\n",
       "        1.240e-01],\n",
       "       [7.760e+00, 2.454e+01, 4.792e+01, ..., 0.000e+00, 2.871e-01,\n",
       "        7.039e-02]])"
      ]
     },
     "execution_count": 30,
     "metadata": {},
     "output_type": "execute_result"
    }
   ],
   "source": [
    "#Feature Data 지정하기\n",
    "br_cancer_data = br_cancer.data\n",
    "br_cancer_data"
   ]
  },
  {
   "cell_type": "code",
   "execution_count": 31,
   "id": "public-motivation",
   "metadata": {},
   "outputs": [
    {
     "data": {
      "text/plain": [
       "array([0, 0, 0, 0, 0, 0, 0, 0, 0, 0, 0, 0, 0, 0, 0, 0, 0, 0, 0, 1, 1, 1,\n",
       "       0, 0, 0, 0, 0, 0, 0, 0, 0, 0, 0, 0, 0, 0, 0, 1, 0, 0, 0, 0, 0, 0,\n",
       "       0, 0, 1, 0, 1, 1, 1, 1, 1, 0, 0, 1, 0, 0, 1, 1, 1, 1, 0, 1, 0, 0,\n",
       "       1, 1, 1, 1, 0, 1, 0, 0, 1, 0, 1, 0, 0, 1, 1, 1, 0, 0, 1, 0, 0, 0,\n",
       "       1, 1, 1, 0, 1, 1, 0, 0, 1, 1, 1, 0, 0, 1, 1, 1, 1, 0, 1, 1, 0, 1,\n",
       "       1, 1, 1, 1, 1, 1, 1, 0, 0, 0, 1, 0, 0, 1, 1, 1, 0, 0, 1, 0, 1, 0,\n",
       "       0, 1, 0, 0, 1, 1, 0, 1, 1, 0, 1, 1, 1, 1, 0, 1, 1, 1, 1, 1, 1, 1,\n",
       "       1, 1, 0, 1, 1, 1, 1, 0, 0, 1, 0, 1, 1, 0, 0, 1, 1, 0, 0, 1, 1, 1,\n",
       "       1, 0, 1, 1, 0, 0, 0, 1, 0, 1, 0, 1, 1, 1, 0, 1, 1, 0, 0, 1, 0, 0,\n",
       "       0, 0, 1, 0, 0, 0, 1, 0, 1, 0, 1, 1, 0, 1, 0, 0, 0, 0, 1, 1, 0, 0,\n",
       "       1, 1, 1, 0, 1, 1, 1, 1, 1, 0, 0, 1, 1, 0, 1, 1, 0, 0, 1, 0, 1, 1,\n",
       "       1, 1, 0, 1, 1, 1, 1, 1, 0, 1, 0, 0, 0, 0, 0, 0, 0, 0, 0, 0, 0, 0,\n",
       "       0, 0, 1, 1, 1, 1, 1, 1, 0, 1, 0, 1, 1, 0, 1, 1, 0, 1, 0, 0, 1, 1,\n",
       "       1, 1, 1, 1, 1, 1, 1, 1, 1, 1, 1, 0, 1, 1, 0, 1, 0, 1, 1, 1, 1, 1,\n",
       "       1, 1, 1, 1, 1, 1, 1, 1, 1, 0, 1, 1, 1, 0, 1, 0, 1, 1, 1, 1, 0, 0,\n",
       "       0, 1, 1, 1, 1, 0, 1, 0, 1, 0, 1, 1, 1, 0, 1, 1, 1, 1, 1, 1, 1, 0,\n",
       "       0, 0, 1, 1, 1, 1, 1, 1, 1, 1, 1, 1, 1, 0, 0, 1, 0, 0, 0, 1, 0, 0,\n",
       "       1, 1, 1, 1, 1, 0, 1, 1, 1, 1, 1, 0, 1, 1, 1, 0, 1, 1, 0, 0, 1, 1,\n",
       "       1, 1, 1, 1, 0, 1, 1, 1, 1, 1, 1, 1, 0, 1, 1, 1, 1, 1, 0, 1, 1, 0,\n",
       "       1, 1, 1, 1, 1, 1, 1, 1, 1, 1, 1, 1, 0, 1, 0, 0, 1, 0, 1, 1, 1, 1,\n",
       "       1, 0, 1, 1, 0, 1, 0, 1, 1, 0, 1, 0, 1, 1, 1, 1, 1, 1, 1, 1, 0, 0,\n",
       "       1, 1, 1, 1, 1, 1, 0, 1, 1, 1, 1, 1, 1, 1, 1, 1, 1, 0, 1, 1, 1, 1,\n",
       "       1, 1, 1, 0, 1, 0, 1, 1, 0, 1, 1, 1, 1, 1, 0, 0, 1, 0, 1, 0, 1, 1,\n",
       "       1, 1, 1, 0, 1, 1, 0, 1, 0, 1, 0, 0, 1, 1, 1, 0, 1, 1, 1, 1, 1, 1,\n",
       "       1, 1, 1, 1, 1, 0, 1, 0, 0, 1, 1, 1, 1, 1, 1, 1, 1, 1, 1, 1, 1, 1,\n",
       "       1, 1, 1, 1, 1, 1, 1, 1, 1, 1, 1, 1, 0, 0, 0, 0, 0, 0, 1])"
      ]
     },
     "execution_count": 31,
     "metadata": {},
     "output_type": "execute_result"
    }
   ],
   "source": [
    "#Label Data 지정하기\n",
    "br_cancer_label = br_cancer.target\n",
    "br_cancer_label"
   ]
  },
  {
   "cell_type": "code",
   "execution_count": 32,
   "id": "driving-simple",
   "metadata": {},
   "outputs": [
    {
     "data": {
      "text/plain": [
       "array(['malignant', 'benign'], dtype='<U9')"
      ]
     },
     "execution_count": 32,
     "metadata": {},
     "output_type": "execute_result"
    }
   ],
   "source": [
    "#Target Names 출력해 보기\n",
    "br_cancer.target_names"
   ]
  },
  {
   "cell_type": "code",
   "execution_count": 33,
   "id": "retained-transportation",
   "metadata": {},
   "outputs": [
    {
     "data": {
      "text/plain": [
       "'.. _breast_cancer_dataset:\\n\\nBreast cancer wisconsin (diagnostic) dataset\\n--------------------------------------------\\n\\n**Data Set Characteristics:**\\n\\n    :Number of Instances: 569\\n\\n    :Number of Attributes: 30 numeric, predictive attributes and the class\\n\\n    :Attribute Information:\\n        - radius (mean of distances from center to points on the perimeter)\\n        - texture (standard deviation of gray-scale values)\\n        - perimeter\\n        - area\\n        - smoothness (local variation in radius lengths)\\n        - compactness (perimeter^2 / area - 1.0)\\n        - concavity (severity of concave portions of the contour)\\n        - concave points (number of concave portions of the contour)\\n        - symmetry\\n        - fractal dimension (\"coastline approximation\" - 1)\\n\\n        The mean, standard error, and \"worst\" or largest (mean of the three\\n        worst/largest values) of these features were computed for each image,\\n        resulting in 30 features.  For instance, field 0 is Mean Radius, field\\n        10 is Radius SE, field 20 is Worst Radius.\\n\\n        - class:\\n                - WDBC-Malignant\\n                - WDBC-Benign\\n\\n    :Summary Statistics:\\n\\n    ===================================== ====== ======\\n                                           Min    Max\\n    ===================================== ====== ======\\n    radius (mean):                        6.981  28.11\\n    texture (mean):                       9.71   39.28\\n    perimeter (mean):                     43.79  188.5\\n    area (mean):                          143.5  2501.0\\n    smoothness (mean):                    0.053  0.163\\n    compactness (mean):                   0.019  0.345\\n    concavity (mean):                     0.0    0.427\\n    concave points (mean):                0.0    0.201\\n    symmetry (mean):                      0.106  0.304\\n    fractal dimension (mean):             0.05   0.097\\n    radius (standard error):              0.112  2.873\\n    texture (standard error):             0.36   4.885\\n    perimeter (standard error):           0.757  21.98\\n    area (standard error):                6.802  542.2\\n    smoothness (standard error):          0.002  0.031\\n    compactness (standard error):         0.002  0.135\\n    concavity (standard error):           0.0    0.396\\n    concave points (standard error):      0.0    0.053\\n    symmetry (standard error):            0.008  0.079\\n    fractal dimension (standard error):   0.001  0.03\\n    radius (worst):                       7.93   36.04\\n    texture (worst):                      12.02  49.54\\n    perimeter (worst):                    50.41  251.2\\n    area (worst):                         185.2  4254.0\\n    smoothness (worst):                   0.071  0.223\\n    compactness (worst):                  0.027  1.058\\n    concavity (worst):                    0.0    1.252\\n    concave points (worst):               0.0    0.291\\n    symmetry (worst):                     0.156  0.664\\n    fractal dimension (worst):            0.055  0.208\\n    ===================================== ====== ======\\n\\n    :Missing Attribute Values: None\\n\\n    :Class Distribution: 212 - Malignant, 357 - Benign\\n\\n    :Creator:  Dr. William H. Wolberg, W. Nick Street, Olvi L. Mangasarian\\n\\n    :Donor: Nick Street\\n\\n    :Date: November, 1995\\n\\nThis is a copy of UCI ML Breast Cancer Wisconsin (Diagnostic) datasets.\\nhttps://goo.gl/U2Uwz2\\n\\nFeatures are computed from a digitized image of a fine needle\\naspirate (FNA) of a breast mass.  They describe\\ncharacteristics of the cell nuclei present in the image.\\n\\nSeparating plane described above was obtained using\\nMultisurface Method-Tree (MSM-T) [K. P. Bennett, \"Decision Tree\\nConstruction Via Linear Programming.\" Proceedings of the 4th\\nMidwest Artificial Intelligence and Cognitive Science Society,\\npp. 97-101, 1992], a classification method which uses linear\\nprogramming to construct a decision tree.  Relevant features\\nwere selected using an exhaustive search in the space of 1-4\\nfeatures and 1-3 separating planes.\\n\\nThe actual linear program used to obtain the separating plane\\nin the 3-dimensional space is that described in:\\n[K. P. Bennett and O. L. Mangasarian: \"Robust Linear\\nProgramming Discrimination of Two Linearly Inseparable Sets\",\\nOptimization Methods and Software 1, 1992, 23-34].\\n\\nThis database is also available through the UW CS ftp server:\\n\\nftp ftp.cs.wisc.edu\\ncd math-prog/cpo-dataset/machine-learn/WDBC/\\n\\n.. topic:: References\\n\\n   - W.N. Street, W.H. Wolberg and O.L. Mangasarian. Nuclear feature extraction \\n     for breast tumor diagnosis. IS&T/SPIE 1993 International Symposium on \\n     Electronic Imaging: Science and Technology, volume 1905, pages 861-870,\\n     San Jose, CA, 1993.\\n   - O.L. Mangasarian, W.N. Street and W.H. Wolberg. Breast cancer diagnosis and \\n     prognosis via linear programming. Operations Research, 43(4), pages 570-577, \\n     July-August 1995.\\n   - W.H. Wolberg, W.N. Street, and O.L. Mangasarian. Machine learning techniques\\n     to diagnose breast cancer from fine-needle aspirates. Cancer Letters 77 (1994) \\n     163-171.'"
      ]
     },
     "execution_count": 33,
     "metadata": {},
     "output_type": "execute_result"
    }
   ],
   "source": [
    "#데이터 Describe 해 보기\n",
    "br_cancer.DESCR"
   ]
  },
  {
   "cell_type": "markdown",
   "id": "national-teacher",
   "metadata": {},
   "source": [
    "(4) train, test 데이터 분리\n",
    "-----"
   ]
  },
  {
   "cell_type": "code",
   "execution_count": 34,
   "id": "passive-oregon",
   "metadata": {},
   "outputs": [],
   "source": [
    "x_train, x_test, y_train, y_test = train_test_split(br_cancer_data,\n",
    "                                                    br_cancer_label,\n",
    "                                                    test_size = 0.2,\n",
    "                                                    random_state = 3)"
   ]
  },
  {
   "cell_type": "markdown",
   "id": "collaborative-adult",
   "metadata": {},
   "source": [
    "(5) 다양한 모델로 학습시켜보기\n",
    "-----------"
   ]
  },
  {
   "cell_type": "code",
   "execution_count": 35,
   "id": "assumed-lease",
   "metadata": {},
   "outputs": [
    {
     "data": {
      "text/plain": [
       "0.8947368421052632"
      ]
     },
     "execution_count": 35,
     "metadata": {},
     "output_type": "execute_result"
    }
   ],
   "source": [
    "#Decision Tree 사용해 보기\n",
    "from sklearn.tree import DecisionTreeClassifier\n",
    "from sklearn.metrics import accuracy_score\n",
    "\n",
    "# train\n",
    "decision_tree = DecisionTreeClassifier(random_state=3)\n",
    "decision_tree.fit(x_train, y_train)\n",
    "\n",
    "# test\n",
    "y_pred_dt = decision_tree.predict(x_test)\n",
    "\n",
    "# acc\n",
    "acc = accuracy_score(y_test, y_pred_dt)\n",
    "acc"
   ]
  },
  {
   "cell_type": "code",
   "execution_count": 36,
   "id": "marked-payment",
   "metadata": {},
   "outputs": [
    {
     "data": {
      "text/plain": [
       "0.9385964912280702"
      ]
     },
     "execution_count": 36,
     "metadata": {},
     "output_type": "execute_result"
    }
   ],
   "source": [
    "#Random Forest 사용해 보기\n",
    "from sklearn.ensemble import RandomForestClassifier\n",
    "from sklearn.metrics import accuracy_score\n",
    "\n",
    "# train\n",
    "random_forest = RandomForestClassifier(random_state=3)\n",
    "random_forest.fit(x_train, y_train)\n",
    "\n",
    "# test\n",
    "y_pred_rf = random_forest.predict(x_test)\n",
    "\n",
    "# acc\n",
    "acc = accuracy_score(y_test, y_pred_rf)\n",
    "acc"
   ]
  },
  {
   "cell_type": "code",
   "execution_count": 37,
   "id": "fitted-tribute",
   "metadata": {},
   "outputs": [
    {
     "data": {
      "text/plain": [
       "0.9122807017543859"
      ]
     },
     "execution_count": 37,
     "metadata": {},
     "output_type": "execute_result"
    }
   ],
   "source": [
    "#SVM 사용해 보기\n",
    "from sklearn import svm\n",
    "from sklearn.metrics import accuracy_score\n",
    "\n",
    "# train\n",
    "svm_model = svm.SVC(random_state=3)\n",
    "svm_model.fit(x_train, y_train)\n",
    "\n",
    "# test\n",
    "y_pred_svm = svm_model.predict(x_test)\n",
    "\n",
    "# acc\n",
    "acc = accuracy_score(y_test, y_pred_svm)\n",
    "acc"
   ]
  },
  {
   "cell_type": "code",
   "execution_count": 38,
   "id": "listed-alberta",
   "metadata": {},
   "outputs": [
    {
     "data": {
      "text/plain": [
       "0.9122807017543859"
      ]
     },
     "execution_count": 38,
     "metadata": {},
     "output_type": "execute_result"
    }
   ],
   "source": [
    "#SGD Classifier 사용해 보기\n",
    "from sklearn.linear_model import SGDClassifier\n",
    "from sklearn.metrics import accuracy_score\n",
    "\n",
    "# train\n",
    "sgd_model = SGDClassifier(random_state=3)\n",
    "sgd_model.fit(x_train, y_train)\n",
    "\n",
    "# test\n",
    "y_pred_sgd = sgd_model.predict(x_test)\n",
    "\n",
    "# acc\n",
    "acc = accuracy_score(y_test, y_pred_sgd)\n",
    "acc"
   ]
  },
  {
   "cell_type": "code",
   "execution_count": 39,
   "id": "fifty-woman",
   "metadata": {},
   "outputs": [
    {
     "data": {
      "text/plain": [
       "0.9385964912280702"
      ]
     },
     "execution_count": 39,
     "metadata": {},
     "output_type": "execute_result"
    }
   ],
   "source": [
    "#Logistic Regression 사용해 보기\n",
    "from sklearn.linear_model import LogisticRegression\n",
    "from sklearn.metrics import accuracy_score\n",
    "\n",
    "# trainx_train\n",
    "logistic_model = LogisticRegression(max_iter = 3000, random_state = 3)\n",
    "logistic_model.fit(x_train, y_train)\n",
    "\n",
    "# test\n",
    "y_pred_log = logistic_model.predict(x_test)\n",
    "\n",
    "# acc\n",
    "acc = accuracy_score(y_test, y_pred_log)\n",
    "acc"
   ]
  },
  {
   "cell_type": "markdown",
   "id": "therapeutic-decade",
   "metadata": {},
   "source": [
    "(6) 모델을 평가해보기\n",
    "----------"
   ]
  },
  {
   "cell_type": "code",
   "execution_count": 40,
   "id": "annoying-person",
   "metadata": {},
   "outputs": [
    {
     "name": "stdout",
     "output_type": "stream",
     "text": [
      "Decision Tree\n",
      "              precision    recall  f1-score   support\n",
      "\n",
      "           0       0.83      0.88      0.85        40\n",
      "           1       0.93      0.91      0.92        74\n",
      "\n",
      "    accuracy                           0.89       114\n",
      "   macro avg       0.88      0.89      0.89       114\n",
      "weighted avg       0.90      0.89      0.90       114\n",
      "\n",
      "------------------------------------------------------\n",
      "\n",
      "Random Forest\n",
      "              precision    recall  f1-score   support\n",
      "\n",
      "           0       0.90      0.93      0.91        40\n",
      "           1       0.96      0.95      0.95        74\n",
      "\n",
      "    accuracy                           0.94       114\n",
      "   macro avg       0.93      0.94      0.93       114\n",
      "weighted avg       0.94      0.94      0.94       114\n",
      "\n",
      "------------------------------------------------------\n",
      "\n",
      "SVM\n",
      "              precision    recall  f1-score   support\n",
      "\n",
      "           0       0.94      0.80      0.86        40\n",
      "           1       0.90      0.97      0.94        74\n",
      "\n",
      "    accuracy                           0.91       114\n",
      "   macro avg       0.92      0.89      0.90       114\n",
      "weighted avg       0.91      0.91      0.91       114\n",
      "\n",
      "------------------------------------------------------\n",
      "\n",
      "SGD Classifier\n",
      "              precision    recall  f1-score   support\n",
      "\n",
      "           0       0.97      0.78      0.86        40\n",
      "           1       0.89      0.99      0.94        74\n",
      "\n",
      "    accuracy                           0.91       114\n",
      "   macro avg       0.93      0.88      0.90       114\n",
      "weighted avg       0.92      0.91      0.91       114\n",
      "\n",
      "------------------------------------------------------\n",
      "\n",
      "Logistic Regression\n",
      "              precision    recall  f1-score   support\n",
      "\n",
      "           0       0.92      0.90      0.91        40\n",
      "           1       0.95      0.96      0.95        74\n",
      "\n",
      "    accuracy                           0.94       114\n",
      "   macro avg       0.93      0.93      0.93       114\n",
      "weighted avg       0.94      0.94      0.94       114\n",
      "\n"
     ]
    }
   ],
   "source": [
    "from sklearn.metrics import classification_report\n",
    "\n",
    "print(\"Decision Tree\")\n",
    "print(classification_report(y_test, y_pred_dt))\n",
    "print(\"------------------------------------------------------\")\n",
    "print()\n",
    "\n",
    "print(\"Random Forest\")\n",
    "print(classification_report(y_test, y_pred_rf))\n",
    "print(\"------------------------------------------------------\")\n",
    "print()\n",
    "\n",
    "print(\"SVM\")\n",
    "print(classification_report(y_test, y_pred_svm))\n",
    "print(\"------------------------------------------------------\")\n",
    "print()\n",
    "\n",
    "print(\"SGD Classifier\")\n",
    "print(classification_report(y_test, y_pred_sgd))\n",
    "print(\"------------------------------------------------------\")\n",
    "print()\n",
    "\n",
    "print(\"Logistic Regression\")\n",
    "print(classification_report(y_test, y_pred_log))"
   ]
  },
  {
   "cell_type": "markdown",
   "id": "identified-extension",
   "metadata": {},
   "source": [
    "* breast_cancer의 경우는 malignant인 환자를 잘 찾아야한다<br/> 고로 accuracy도 높고 malignant에 대한 Recall이 높아야한다.<br/>confusion matrix의 확인 결과, accuracy가 높고 malignant에 대한 Recall이 높은 <br/>Random Forest의 성능이 가장 좋은 것을 알 수 있다."
   ]
  },
  {
   "cell_type": "markdown",
   "id": "recognized-gravity",
   "metadata": {},
   "source": [
    "회고\n",
    "-----"
   ]
  },
  {
   "cell_type": "markdown",
   "id": "painted-receipt",
   "metadata": {},
   "source": [
    "- 3가지 데이터셋의 구성이 합리적으로 진행되었는가?<br/> Feature Data지정-> Label data 지정->Target Names 출력->데이터 Dscribe 후 <br/> train, test데이터를 분리하였으며 공정한 분리를 위해 random_state 값을 이용해 할당하였습니다.",
    "- 3가지 데이터셋에 대해 각각 5가지 모델을 성공적으로 적용하였는가?<br/> Decision Tree, Random Forest, SVM, SGD Classifier, Logistic Regression 이렇게 5 개의 모델을<br/> 학습하고 테스트 하였으며 정상적으로 수행하였습니다.",
    "- 3가지 데이터셋에 대해 모델의 평가지표가 적절히 선택되었는가?<br/> digits와 wine의 경우 균등한 label이 있고 데이터를 잘 맞추는 것이 중요하므로 accuracy와 F1-score를 기준으로 보았고<br/> breast의 경우 양성인 환자를 잘 찾아내는게 중요하므로 malignant에 대한 Recall을 기준으로 보았습니다.",
   ]
  }
 ],
 "metadata": {
  "kernelspec": {
   "display_name": "Python 3",
   "language": "python",
   "name": "python3"
  },
  "language_info": {
   "codemirror_mode": {
    "name": "ipython",
    "version": 3
   },
   "file_extension": ".py",
   "mimetype": "text/x-python",
   "name": "python",
   "nbconvert_exporter": "python",
   "pygments_lexer": "ipython3",
   "version": "3.7.9"
  }
 },
 "nbformat": 4,
 "nbformat_minor": 5
}
