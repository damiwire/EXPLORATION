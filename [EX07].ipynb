{
 "cells": [
  {
   "cell_type": "code",
   "execution_count": 1,
   "id": "exclusive-gentleman",
   "metadata": {
    "scrolled": true
   },
   "outputs": [
    {
     "data": {
      "text/html": [
       "<div>\n",
       "<style scoped>\n",
       "    .dataframe tbody tr th:only-of-type {\n",
       "        vertical-align: middle;\n",
       "    }\n",
       "\n",
       "    .dataframe tbody tr th {\n",
       "        vertical-align: top;\n",
       "    }\n",
       "\n",
       "    .dataframe thead th {\n",
       "        text-align: right;\n",
       "    }\n",
       "</style>\n",
       "<table border=\"1\" class=\"dataframe\">\n",
       "  <thead>\n",
       "    <tr style=\"text-align: right;\">\n",
       "      <th></th>\n",
       "      <th>id</th>\n",
       "      <th>document</th>\n",
       "      <th>label</th>\n",
       "    </tr>\n",
       "  </thead>\n",
       "  <tbody>\n",
       "    <tr>\n",
       "      <th>0</th>\n",
       "      <td>9976970</td>\n",
       "      <td>아 더빙.. 진짜 짜증나네요 목소리</td>\n",
       "      <td>0</td>\n",
       "    </tr>\n",
       "    <tr>\n",
       "      <th>1</th>\n",
       "      <td>3819312</td>\n",
       "      <td>흠...포스터보고 초딩영화줄....오버연기조차 가볍지 않구나</td>\n",
       "      <td>1</td>\n",
       "    </tr>\n",
       "    <tr>\n",
       "      <th>2</th>\n",
       "      <td>10265843</td>\n",
       "      <td>너무재밓었다그래서보는것을추천한다</td>\n",
       "      <td>0</td>\n",
       "    </tr>\n",
       "    <tr>\n",
       "      <th>3</th>\n",
       "      <td>9045019</td>\n",
       "      <td>교도소 이야기구먼 ..솔직히 재미는 없다..평점 조정</td>\n",
       "      <td>0</td>\n",
       "    </tr>\n",
       "    <tr>\n",
       "      <th>4</th>\n",
       "      <td>6483659</td>\n",
       "      <td>사이몬페그의 익살스런 연기가 돋보였던 영화!스파이더맨에서 늙어보이기만 했던 커스틴 ...</td>\n",
       "      <td>1</td>\n",
       "    </tr>\n",
       "  </tbody>\n",
       "</table>\n",
       "</div>"
      ],
      "text/plain": [
       "         id                                           document  label\n",
       "0   9976970                                아 더빙.. 진짜 짜증나네요 목소리      0\n",
       "1   3819312                  흠...포스터보고 초딩영화줄....오버연기조차 가볍지 않구나      1\n",
       "2  10265843                                  너무재밓었다그래서보는것을추천한다      0\n",
       "3   9045019                      교도소 이야기구먼 ..솔직히 재미는 없다..평점 조정      0\n",
       "4   6483659  사이몬페그의 익살스런 연기가 돋보였던 영화!스파이더맨에서 늙어보이기만 했던 커스틴 ...      1"
      ]
     },
     "execution_count": 1,
     "metadata": {},
     "output_type": "execute_result"
    }
   ],
   "source": [
    "import pandas as pd\n",
    "import urllib.request\n",
    "%matplotlib inline\n",
    "import matplotlib.pyplot as plt\n",
    "import re\n",
    "from konlpy.tag import Okt\n",
    "from tensorflow import keras\n",
    "from tensorflow.keras.preprocessing.text import Tokenizer\n",
    "import numpy as np\n",
    "from tensorflow.keras.preprocessing.sequence import pad_sequences\n",
    "from collections import Counter\n",
    "\n",
    "# 데이터를 읽어봅시다. \n",
    "train_data = pd.read_table('~/aiffel/sentiment_classification/data/ratings_train.txt')\n",
    "test_data = pd.read_table('~/aiffel/sentiment_classification/data/ratings_test.txt')\n",
    "\n",
    "train_data.head()"
   ]
  },
  {
   "cell_type": "code",
   "execution_count": 2,
   "id": "general-finnish",
   "metadata": {},
   "outputs": [
    {
     "name": "stdout",
     "output_type": "stream",
     "text": [
      "150000 150000\n",
      "50000 50000\n"
     ]
    }
   ],
   "source": [
    "print(len(train_data.document), len(train_data.label))\n",
    "print(len(test_data.document), len(test_data.label))"
   ]
  },
  {
   "cell_type": "code",
   "execution_count": 3,
   "id": "legendary-square",
   "metadata": {},
   "outputs": [],
   "source": [
    "from konlpy.tag import Mecab\n",
    "tokenizer = Mecab()\n",
    "stopwords = ['의','가','이','은','들','는','좀','잘','걍','과','도','를','으로','자','에','와','한','하다']\n",
    "\n",
    "def load_data(train_data, test_data, num_words=10000):\n",
    "    train_data.drop_duplicates(subset=['document'], inplace=True)\n",
    "    train_data = train_data.dropna(how = 'any') \n",
    "    test_data.drop_duplicates(subset=['document'], inplace=True)\n",
    "    test_data = test_data.dropna(how = 'any') \n",
    "    \n",
    "    X_train = []\n",
    "    for sentence in train_data['document']:\n",
    "        temp_X = tokenizer.morphs(sentence) # 토큰화\n",
    "        temp_X = [word for word in temp_X if not word in stopwords] # 불용어 제거\n",
    "        X_train.append(temp_X)\n",
    "\n",
    "    X_test = []\n",
    "    for sentence in test_data['document']:\n",
    "        temp_X = tokenizer.morphs(sentence) # 토큰화\n",
    "        temp_X = [word for word in temp_X if not word in stopwords] # 불용어 제거\n",
    "        X_test.append(temp_X)\n",
    "    \n",
    "    words = np.concatenate(X_train).tolist()\n",
    "    counter = Counter(words)\n",
    "    counter = counter.most_common(10000-4)\n",
    "    vocab = ['<PAD>', '<BOS>', '<UNK>', '<UNUSED>'] + [key for key, _ in counter]\n",
    "    word_to_index = {word:index for index, word in enumerate(vocab)}\n",
    "        \n",
    "    def wordlist_to_indexlist(wordlist):\n",
    "        return [word_to_index[word] if word in word_to_index else word_to_index['<UNK>'] for word in wordlist]\n",
    "        \n",
    "    X_train = list(map(wordlist_to_indexlist, X_train))\n",
    "    X_test = list(map(wordlist_to_indexlist, X_test))\n",
    "        \n",
    "    return X_train, np.array(list(train_data['label'])), X_test, np.array(list(test_data['label'])), word_to_index\n",
    "    \n",
    "X_train, y_train, X_test, y_test, word_to_index = load_data(train_data, test_data) "
   ]
  },
  {
   "cell_type": "code",
   "execution_count": 4,
   "id": "friendly-playback",
   "metadata": {},
   "outputs": [
    {
     "name": "stdout",
     "output_type": "stream",
     "text": [
      "146182 49157\n",
      "146182 49157\n"
     ]
    }
   ],
   "source": [
    "print(len(X_train), len(X_test))\n",
    "print(len(y_train), len(y_test))"
   ]
  },
  {
   "cell_type": "code",
   "execution_count": 5,
   "id": "wrong-latitude",
   "metadata": {},
   "outputs": [],
   "source": [
    "index_to_word = {index:word for word, index in word_to_index.items()}"
   ]
  },
  {
   "cell_type": "code",
   "execution_count": 6,
   "id": "viral-gambling",
   "metadata": {},
   "outputs": [],
   "source": [
    "# 문장 1개를 활용할 딕셔너리와 함께 주면, 단어 인덱스 리스트 벡터로 변환해 주는 함수입니다. \n",
    "# 단, 모든 문장은 <BOS>로 시작하는 것으로 합니다. \n",
    "def get_encoded_sentence(sentence, word_to_index):\n",
    "    return [word_to_index['<BOS>']]+[word_to_index[word] if word in word_to_index else word_to_index['<UNK>'] for word in sentence.split()]\n",
    "\n",
    "# 여러 개의 문장 리스트를 한꺼번에 단어 인덱스 리스트 벡터로 encode해 주는 함수입니다. \n",
    "def get_encoded_sentences(sentences, word_to_index):\n",
    "    return [get_encoded_sentence(sentence, word_to_index) for sentence in sentences]\n",
    "\n",
    "# 숫자 벡터로 encode된 문장을 원래대로 decode하는 함수입니다. \n",
    "def get_decoded_sentence(encoded_sentence, index_to_word):\n",
    "    return ' '.join(index_to_word[index] if index in index_to_word else '<UNK>' for index in encoded_sentence[1:])  #[1:]를 통해 <BOS>를 제외\n",
    "\n",
    "# 여러 개의 숫자 벡터로 encode된 문장을 한꺼번에 원래대로 decode하는 함수입니다. \n",
    "def get_decoded_sentences(encoded_sentences, index_to_word):\n",
    "    return [get_decoded_sentence(encoded_sentence, index_to_word) for encoded_sentence in encoded_sentences]"
   ]
  },
  {
   "cell_type": "code",
   "execution_count": 7,
   "id": "agreed-vaccine",
   "metadata": {},
   "outputs": [
    {
     "name": "stdout",
     "output_type": "stream",
     "text": [
      "X_train's length : 146182\n",
      "X_test's length : 49157\n"
     ]
    }
   ],
   "source": [
    "print(\"X_train's length :\", len(X_train))\n",
    "print(\"X_test's length :\", len(X_test))"
   ]
  },
  {
   "cell_type": "code",
   "execution_count": 8,
   "id": "specified-medication",
   "metadata": {},
   "outputs": [
    {
     "name": "stdout",
     "output_type": "stream",
     "text": [
      "문장길이 평균 :  15.96940191154864\n",
      "문장길이 최대 :  116\n",
      "문장길이 표준편차 :  12.843571191092\n",
      "pad_sequences maxlen :  41\n",
      "전체 문장의 0.9342988343341575%가 maxlen 설정값 이내에 포함됩니다. \n"
     ]
    }
   ],
   "source": [
    "#전체 데이터 셋 통합\n",
    "total_data_text = list(X_train) + list(X_test)\n",
    "\n",
    "# 텍스트데이터 문장길이의 리스트를 생성한 후\n",
    "num_tokens = [len(tokens) for tokens in total_data_text]\n",
    "num_tokens = np.array(num_tokens)\n",
    "# 문장길이의 평균값, 최대값, 표준편차를 계산해 본다. \n",
    "print('문장길이 평균 : ', np.mean(num_tokens))\n",
    "print('문장길이 최대 : ', np.max(num_tokens))\n",
    "print('문장길이 표준편차 : ', np.std(num_tokens))\n",
    "\n",
    "# 예를들어, 최대 길이를 (평균 + 2*표준편차)로 한다면,  \n",
    "max_tokens = np.mean(num_tokens) + 2 * np.std(num_tokens)\n",
    "maxlen = int(max_tokens)\n",
    "print('pad_sequences maxlen : ', maxlen)\n",
    "print('전체 문장의 {}%가 maxlen 설정값 이내에 포함됩니다. '.format(np.sum(num_tokens < max_tokens) / len(num_tokens)))"
   ]
  },
  {
   "cell_type": "code",
   "execution_count": 9,
   "id": "ecological-robinson",
   "metadata": {},
   "outputs": [
    {
     "name": "stdout",
     "output_type": "stream",
     "text": [
      "(146182, 41)\n"
     ]
    }
   ],
   "source": [
    "# padding방식을 문장 뒤쪽(post), 앞쪽(pre)중 어느쪽으로 하느냐에 따라서 성능차이 발생\n",
    "X_train = keras.preprocessing.sequence.pad_sequences(X_train,\n",
    "                                                        value=word_to_index[\"<PAD>\"],\n",
    "                                                        padding='pre', \n",
    "                                                        maxlen=maxlen)\n",
    "\n",
    "X_test = keras.preprocessing.sequence.pad_sequences(X_test,\n",
    "                                                       value=word_to_index[\"<PAD>\"],\n",
    "                                                       padding='pre', \n",
    "                                                       maxlen=maxlen)\n",
    "\n",
    "print(X_train.shape)"
   ]
  },
  {
   "cell_type": "code",
   "execution_count": 10,
   "id": "expired-horror",
   "metadata": {},
   "outputs": [],
   "source": [
    "from sklearn.model_selection import train_test_split\n",
    "X_train, X_val, y_train, y_val = train_test_split(X_train, \n",
    "                                                          y_train,\n",
    "                                                          test_size=0.2,\n",
    "                                                          shuffle=True, \n",
    "                                                          random_state=20)"
   ]
  },
  {
   "cell_type": "code",
   "execution_count": 11,
   "id": "voluntary-graduation",
   "metadata": {
    "scrolled": true
   },
   "outputs": [
    {
     "name": "stdout",
     "output_type": "stream",
     "text": [
      "Model: \"sequential\"\n",
      "_________________________________________________________________\n",
      "Layer (type)                 Output Shape              Param #   \n",
      "=================================================================\n",
      "embedding (Embedding)        (None, None, 32)          320000    \n",
      "_________________________________________________________________\n",
      "conv1d (Conv1D)              (None, None, 16)          3600      \n",
      "_________________________________________________________________\n",
      "max_pooling1d (MaxPooling1D) (None, None, 16)          0         \n",
      "_________________________________________________________________\n",
      "conv1d_1 (Conv1D)            (None, None, 32)          3616      \n",
      "_________________________________________________________________\n",
      "global_max_pooling1d (Global (None, 32)                0         \n",
      "_________________________________________________________________\n",
      "dense (Dense)                (None, 32)                1056      \n",
      "_________________________________________________________________\n",
      "dense_1 (Dense)              (None, 1)                 33        \n",
      "=================================================================\n",
      "Total params: 328,305\n",
      "Trainable params: 328,305\n",
      "Non-trainable params: 0\n",
      "_________________________________________________________________\n"
     ]
    }
   ],
   "source": [
    "#Conv1D\n",
    "vocab_size = 10000    # 어휘 사전의 크기입니다(10,000개의 단어)\n",
    "word_vector_dim = 32  # 워드 벡터의 차원수 (변경가능한 하이퍼파라미터)\n",
    "\n",
    "model = keras.Sequential()\n",
    "model.add(keras.layers.Embedding(vocab_size, word_vector_dim, input_shape=(None,)))\n",
    "model.add(keras.layers.Conv1D(16, 7, activation='relu'))\n",
    "model.add(keras.layers.MaxPooling1D(5))\n",
    "model.add(keras.layers.Conv1D(32, 7, activation='relu'))\n",
    "model.add(keras.layers.GlobalMaxPooling1D())\n",
    "model.add(keras.layers.Dense(32, activation='relu'))\n",
    "model.add(keras.layers.Dense(1, activation='sigmoid'))  # 최종 출력은 긍정/부정을 나타내는 1dim 입니다.\n",
    "\n",
    "model.summary()"
   ]
  },
  {
   "cell_type": "code",
   "execution_count": 12,
   "id": "progressive-nevada",
   "metadata": {},
   "outputs": [
    {
     "name": "stdout",
     "output_type": "stream",
     "text": [
      "Epoch 1/20\n",
      "229/229 - 11s - loss: 0.4642 - accuracy: 0.7720 - val_loss: 0.3565 - val_accuracy: 0.8446\n",
      "Epoch 2/20\n",
      "229/229 - 2s - loss: 0.3107 - accuracy: 0.8690 - val_loss: 0.3428 - val_accuracy: 0.8518\n",
      "Epoch 3/20\n",
      "229/229 - 2s - loss: 0.2586 - accuracy: 0.8957 - val_loss: 0.3441 - val_accuracy: 0.8523\n",
      "Epoch 4/20\n",
      "229/229 - 2s - loss: 0.2027 - accuracy: 0.9235 - val_loss: 0.3769 - val_accuracy: 0.8490\n",
      "Epoch 5/20\n",
      "229/229 - 2s - loss: 0.1467 - accuracy: 0.9485 - val_loss: 0.4405 - val_accuracy: 0.8405\n",
      "Epoch 6/20\n",
      "229/229 - 2s - loss: 0.1034 - accuracy: 0.9663 - val_loss: 0.5066 - val_accuracy: 0.8387\n",
      "Epoch 7/20\n",
      "229/229 - 2s - loss: 0.0747 - accuracy: 0.9764 - val_loss: 0.5818 - val_accuracy: 0.8338\n",
      "Epoch 8/20\n",
      "229/229 - 2s - loss: 0.0572 - accuracy: 0.9826 - val_loss: 0.6515 - val_accuracy: 0.8305\n",
      "Epoch 9/20\n",
      "229/229 - 2s - loss: 0.0447 - accuracy: 0.9864 - val_loss: 0.7327 - val_accuracy: 0.8295\n",
      "Epoch 10/20\n",
      "229/229 - 2s - loss: 0.0376 - accuracy: 0.9886 - val_loss: 0.7901 - val_accuracy: 0.8262\n",
      "Epoch 11/20\n",
      "229/229 - 2s - loss: 0.0325 - accuracy: 0.9900 - val_loss: 0.8799 - val_accuracy: 0.8270\n",
      "Epoch 12/20\n",
      "229/229 - 2s - loss: 0.0311 - accuracy: 0.9901 - val_loss: 0.9063 - val_accuracy: 0.8253\n",
      "Epoch 13/20\n",
      "229/229 - 2s - loss: 0.0329 - accuracy: 0.9891 - val_loss: 0.9201 - val_accuracy: 0.8226\n",
      "Epoch 14/20\n",
      "229/229 - 2s - loss: 0.0350 - accuracy: 0.9882 - val_loss: 0.9066 - val_accuracy: 0.8258\n",
      "Epoch 15/20\n",
      "229/229 - 2s - loss: 0.0293 - accuracy: 0.9905 - val_loss: 0.9793 - val_accuracy: 0.8265\n",
      "Epoch 16/20\n",
      "229/229 - 2s - loss: 0.0244 - accuracy: 0.9922 - val_loss: 1.0347 - val_accuracy: 0.8244\n",
      "Epoch 17/20\n",
      "229/229 - 2s - loss: 0.0201 - accuracy: 0.9936 - val_loss: 1.0706 - val_accuracy: 0.8280\n",
      "Epoch 18/20\n",
      "229/229 - 2s - loss: 0.0176 - accuracy: 0.9944 - val_loss: 1.1503 - val_accuracy: 0.8250\n",
      "Epoch 19/20\n",
      "229/229 - 2s - loss: 0.0160 - accuracy: 0.9948 - val_loss: 1.1730 - val_accuracy: 0.8256\n",
      "Epoch 20/20\n",
      "229/229 - 2s - loss: 0.0159 - accuracy: 0.9947 - val_loss: 1.2003 - val_accuracy: 0.8221\n"
     ]
    }
   ],
   "source": [
    "model.compile(optimizer='adam',\n",
    "              loss='binary_crossentropy',\n",
    "              metrics=['accuracy'])\n",
    "              \n",
    "epochs=20  # 몇 epoch를 훈련하면 좋을지 결과를 보면서 바꾸어 봅시다. \n",
    "batch_size=512\n",
    "\n",
    "history = model.fit(X_train,\n",
    "                    y_train,\n",
    "                    epochs=epochs,\n",
    "                    batch_size=batch_size,\n",
    "                    validation_data=(X_val, y_val),\n",
    "                    verbose=2)"
   ]
  },
  {
   "cell_type": "code",
   "execution_count": 13,
   "id": "greenhouse-wound",
   "metadata": {},
   "outputs": [
    {
     "name": "stdout",
     "output_type": "stream",
     "text": [
      "1537/1537 - 5s - loss: 1.2004 - accuracy: 0.8219\n",
      "[1.2004001140594482, 0.8219378590583801]\n"
     ]
    }
   ],
   "source": [
    "results = model.evaluate(X_test,  y_test, verbose=2)\n",
    "\n",
    "print(results)"
   ]
  },
  {
   "cell_type": "code",
   "execution_count": 14,
   "id": "invisible-median",
   "metadata": {
    "scrolled": true
   },
   "outputs": [
    {
     "name": "stdout",
     "output_type": "stream",
     "text": [
      "dict_keys(['loss', 'accuracy', 'val_loss', 'val_accuracy'])\n"
     ]
    },
    {
     "data": {
      "image/png": "[encoded data removed]",
      "text/plain": [
       "<Figure size 432x288 with 1 Axes>"
      ]
     },
     "metadata": {
      "needs_background": "light"
     },
     "output_type": "display_data"
    }
   ],
   "source": [
    "history_dict = history.history\n",
    "print(history_dict.keys()) # epoch에 따른 그래프를 그려볼 수 있는 항목들\n",
    "\n",
    "import matplotlib.pyplot as plt\n",
    "\n",
    "acc = history_dict['accuracy']\n",
    "val_acc = history_dict['val_accuracy']\n",
    "loss = history_dict['loss']\n",
    "val_loss = history_dict['val_loss']\n",
    "\n",
    "epochs = range(1, len(acc) + 1)\n",
    "\n",
    "# \"bo\"는 \"파란색 점\"\n",
    "plt.plot(epochs, loss, 'bo', label='Training loss')\n",
    "# b는 \"파란 실선\"\n",
    "plt.plot(epochs, val_loss, 'b', label='Validation loss')\n",
    "plt.title('Training and validation loss')\n",
    "plt.xlabel('Epochs')\n",
    "plt.ylabel('Loss')\n",
    "plt.legend()\n",
    "\n",
    "plt.show()"
   ]
  },
  {
   "cell_type": "code",
   "execution_count": 15,
   "id": "chronic-worry",
   "metadata": {},
   "outputs": [
    {
     "data": {
      "image/png": "[encoded data removed]",
      "text/plain": [
       "<Figure size 432x288 with 1 Axes>"
      ]
     },
     "metadata": {
      "needs_background": "light"
     },
     "output_type": "display_data"
    }
   ],
   "source": [
    "plt.clf()   # 그림을 초기화합니다\n",
    "\n",
    "plt.plot(epochs, acc, 'bo', label='Training acc')\n",
    "plt.plot(epochs, val_acc, 'b', label='Validation acc')\n",
    "plt.title('Training and validation accuracy')\n",
    "plt.xlabel('Epochs')\n",
    "plt.ylabel('Accuracy')\n",
    "plt.legend()\n",
    "\n",
    "plt.show()"
   ]
  },
  {
   "cell_type": "markdown",
   "id": "conceptual-digit",
   "metadata": {},
   "source": [
    "## 7) 다른 모델들로 훈련, 그래프 그리기"
   ]
  },
  {
   "cell_type": "code",
   "execution_count": 16,
   "id": "intensive-soundtrack",
   "metadata": {
    "scrolled": true
   },
   "outputs": [
    {
     "name": "stdout",
     "output_type": "stream",
     "text": [
      "Model: \"GlobalMaxPooling1D\"\n",
      "_________________________________________________________________\n",
      "Layer (type)                 Output Shape              Param #   \n",
      "=================================================================\n",
      "embedding_1 (Embedding)      (None, None, 32)          320000    \n",
      "_________________________________________________________________\n",
      "global_max_pooling1d_1 (Glob (None, 32)                0         \n",
      "_________________________________________________________________\n",
      "dense_2 (Dense)              (None, 8)                 264       \n",
      "_________________________________________________________________\n",
      "dense_3 (Dense)              (None, 1)                 9         \n",
      "=================================================================\n",
      "Total params: 320,273\n",
      "Trainable params: 320,273\n",
      "Non-trainable params: 0\n",
      "_________________________________________________________________\n"
     ]
    }
   ],
   "source": [
    "model = keras.Sequential(name='GlobalMaxPooling1D') \n",
    "model.add(keras.layers.Embedding(vocab_size, word_vector_dim, input_shape=(None,))) \n",
    "model.add(keras.layers.GlobalMaxPooling1D()) \n",
    "model.add(keras.layers.Dense(8, activation='relu')) \n",
    "model.add(keras.layers.Dense(1, activation='sigmoid')) # 최종 출력은 긍정/부정을 나타내는 1dim 입니다. \n",
    "model.summary()"
   ]
  },
  {
   "cell_type": "code",
   "execution_count": 17,
   "id": "upset-funeral",
   "metadata": {},
   "outputs": [
    {
     "name": "stdout",
     "output_type": "stream",
     "text": [
      "Epoch 1/20\n",
      "229/229 - 2s - loss: 0.5903 - accuracy: 0.7272 - val_loss: 0.4456 - val_accuracy: 0.8222\n",
      "Epoch 2/20\n",
      "229/229 - 1s - loss: 0.3702 - accuracy: 0.8436 - val_loss: 0.3609 - val_accuracy: 0.8421\n",
      "Epoch 3/20\n",
      "229/229 - 1s - loss: 0.3120 - accuracy: 0.8683 - val_loss: 0.3543 - val_accuracy: 0.8447\n",
      "Epoch 4/20\n",
      "229/229 - 1s - loss: 0.2814 - accuracy: 0.8849 - val_loss: 0.3576 - val_accuracy: 0.8456\n",
      "Epoch 5/20\n",
      "229/229 - 1s - loss: 0.2582 - accuracy: 0.8960 - val_loss: 0.3663 - val_accuracy: 0.8452\n",
      "Epoch 6/20\n",
      "229/229 - 1s - loss: 0.2381 - accuracy: 0.9058 - val_loss: 0.3766 - val_accuracy: 0.8432\n",
      "Epoch 7/20\n",
      "229/229 - 1s - loss: 0.2204 - accuracy: 0.9145 - val_loss: 0.3911 - val_accuracy: 0.8414\n",
      "Epoch 8/20\n",
      "229/229 - 1s - loss: 0.2038 - accuracy: 0.9225 - val_loss: 0.4066 - val_accuracy: 0.8395\n",
      "Epoch 9/20\n",
      "229/229 - 1s - loss: 0.1882 - accuracy: 0.9301 - val_loss: 0.4243 - val_accuracy: 0.8372\n",
      "Epoch 10/20\n",
      "229/229 - 1s - loss: 0.1736 - accuracy: 0.9367 - val_loss: 0.4443 - val_accuracy: 0.8354\n",
      "Epoch 11/20\n",
      "229/229 - 1s - loss: 0.1600 - accuracy: 0.9428 - val_loss: 0.4672 - val_accuracy: 0.8338\n",
      "Epoch 12/20\n",
      "229/229 - 1s - loss: 0.1471 - accuracy: 0.9487 - val_loss: 0.4909 - val_accuracy: 0.8315\n",
      "Epoch 13/20\n",
      "229/229 - 1s - loss: 0.1356 - accuracy: 0.9544 - val_loss: 0.5146 - val_accuracy: 0.8289\n",
      "Epoch 14/20\n",
      "229/229 - 1s - loss: 0.1249 - accuracy: 0.9583 - val_loss: 0.5391 - val_accuracy: 0.8282\n",
      "Epoch 15/20\n",
      "229/229 - 1s - loss: 0.1150 - accuracy: 0.9623 - val_loss: 0.5644 - val_accuracy: 0.8273\n",
      "Epoch 16/20\n",
      "229/229 - 1s - loss: 0.1060 - accuracy: 0.9661 - val_loss: 0.5933 - val_accuracy: 0.8257\n",
      "Epoch 17/20\n",
      "229/229 - 1s - loss: 0.0976 - accuracy: 0.9695 - val_loss: 0.6175 - val_accuracy: 0.8248\n",
      "Epoch 18/20\n",
      "229/229 - 1s - loss: 0.0906 - accuracy: 0.9720 - val_loss: 0.6478 - val_accuracy: 0.8226\n",
      "Epoch 19/20\n",
      "229/229 - 1s - loss: 0.0831 - accuracy: 0.9752 - val_loss: 0.6776 - val_accuracy: 0.8205\n",
      "Epoch 20/20\n",
      "229/229 - 1s - loss: 0.0775 - accuracy: 0.9771 - val_loss: 0.7014 - val_accuracy: 0.8195\n"
     ]
    }
   ],
   "source": [
    "model.compile(optimizer='adam',\n",
    "              loss='binary_crossentropy',\n",
    "              metrics=['accuracy'])\n",
    "              \n",
    "epochs=20  # 몇 epoch를 훈련하면 좋을지 결과를 보면서 바꾸어 봅시다. \n",
    "batch_size=512\n",
    "\n",
    "history = model.fit(X_train,\n",
    "                    y_train,\n",
    "                    epochs=epochs,\n",
    "                    batch_size=batch_size,\n",
    "                    validation_data=(X_val, y_val),\n",
    "                    verbose=2)"
   ]
  },
  {
   "cell_type": "code",
   "execution_count": 18,
   "id": "moderate-silicon",
   "metadata": {},
   "outputs": [
    {
     "name": "stdout",
     "output_type": "stream",
     "text": [
      "dict_keys(['loss', 'accuracy', 'val_loss', 'val_accuracy'])\n"
     ]
    },
    {
     "data": {
      "image/png": "[encoded data removed]",
      "text/plain": [
       "<Figure size 432x288 with 1 Axes>"
      ]
     },
     "metadata": {
      "needs_background": "light"
     },
     "output_type": "display_data"
    }
   ],
   "source": [
    "history_dict = history.history\n",
    "print(history_dict.keys())\n",
    "\n",
    "import matplotlib.pyplot as plt\n",
    "\n",
    "acc = history_dict['accuracy']\n",
    "val_acc = history_dict['val_accuracy']\n",
    "loss = history_dict['loss']\n",
    "val_loss = history_dict['val_loss']\n",
    "\n",
    "epochs = range(1, len(acc) + 1)\n",
    "\n",
    "# \"bo\"는 \"파란색 점\"\n",
    "plt.plot(epochs, loss, 'bo', label='Training loss')\n",
    "# b는 \"파란 실선\"\n",
    "plt.plot(epochs, val_loss, 'b', label='Validation loss')\n",
    "plt.title('Training and validation loss')\n",
    "plt.xlabel('Epochs')\n",
    "plt.ylabel('Loss')\n",
    "plt.legend()\n",
    "\n",
    "plt.show()"
   ]
  },
  {
   "cell_type": "code",
   "execution_count": 19,
   "id": "seven-barrel",
   "metadata": {},
   "outputs": [
    {
     "data": {
      "image/png": "[encoded data removed]",
      "text/plain": [
       "<Figure size 432x288 with 1 Axes>"
      ]
     },
     "metadata": {
      "needs_background": "light"
     },
     "output_type": "display_data"
    }
   ],
   "source": [
    "plt.clf()   # 그림을 초기화합니다\n",
    "\n",
    "plt.plot(epochs, acc, 'bo', label='Training acc')\n",
    "plt.plot(epochs, val_acc, 'b', label='Validation acc')\n",
    "plt.title('Training and validation accuracy')\n",
    "plt.xlabel('Epochs')\n",
    "plt.ylabel('Accuracy')\n",
    "plt.legend()\n",
    "\n",
    "plt.show()"
   ]
  },
  {
   "cell_type": "code",
   "execution_count": 20,
   "id": "numerous-aquarium",
   "metadata": {},
   "outputs": [
    {
     "name": "stdout",
     "output_type": "stream",
     "text": [
      "Model: \"LSTM\"\n",
      "_________________________________________________________________\n",
      "Layer (type)                 Output Shape              Param #   \n",
      "=================================================================\n",
      "embedding_2 (Embedding)      (None, None, 32)          320000    \n",
      "_________________________________________________________________\n",
      "lstm (LSTM)                  (None, 8)                 1312      \n",
      "_________________________________________________________________\n",
      "dense_4 (Dense)              (None, 8)                 72        \n",
      "_________________________________________________________________\n",
      "dense_5 (Dense)              (None, 1)                 9         \n",
      "=================================================================\n",
      "Total params: 321,393\n",
      "Trainable params: 321,393\n",
      "Non-trainable params: 0\n",
      "_________________________________________________________________\n"
     ]
    }
   ],
   "source": [
    "model = keras.Sequential(name='LSTM') \n",
    "model.add(keras.layers.Embedding(vocab_size, word_vector_dim, input_shape=(None,))) \n",
    "model.add(keras.layers.LSTM(8)) \n",
    "model.add(keras.layers.Dense(8, activation='relu')) \n",
    "model.add(keras.layers.Dense(1, activation='sigmoid')) # 최종 출력은 긍정/부정을 나타내는 1dim 입니다. \n",
    "model.summary()"
   ]
  },
  {
   "cell_type": "code",
   "execution_count": 21,
   "id": "automatic-calendar",
   "metadata": {},
   "outputs": [
    {
     "name": "stdout",
     "output_type": "stream",
     "text": [
      "Epoch 1/20\n",
      "229/229 - 5s - loss: 0.5061 - accuracy: 0.7769 - val_loss: 0.3742 - val_accuracy: 0.8406\n",
      "Epoch 2/20\n",
      "229/229 - 2s - loss: 0.3396 - accuracy: 0.8577 - val_loss: 0.3522 - val_accuracy: 0.8475\n",
      "Epoch 3/20\n",
      "229/229 - 2s - loss: 0.3139 - accuracy: 0.8685 - val_loss: 0.3526 - val_accuracy: 0.8448\n",
      "Epoch 4/20\n",
      "229/229 - 2s - loss: 0.3000 - accuracy: 0.8740 - val_loss: 0.3499 - val_accuracy: 0.8465\n",
      "Epoch 5/20\n",
      "229/229 - 2s - loss: 0.2880 - accuracy: 0.8796 - val_loss: 0.3484 - val_accuracy: 0.8464\n",
      "Epoch 6/20\n",
      "229/229 - 2s - loss: 0.2767 - accuracy: 0.8850 - val_loss: 0.3502 - val_accuracy: 0.8476\n",
      "Epoch 7/20\n",
      "229/229 - 2s - loss: 0.2647 - accuracy: 0.8902 - val_loss: 0.3565 - val_accuracy: 0.8494\n",
      "Epoch 8/20\n",
      "229/229 - 2s - loss: 0.2527 - accuracy: 0.8951 - val_loss: 0.3587 - val_accuracy: 0.8488\n",
      "Epoch 9/20\n",
      "229/229 - 2s - loss: 0.2389 - accuracy: 0.9014 - val_loss: 0.3656 - val_accuracy: 0.8498\n",
      "Epoch 10/20\n",
      "229/229 - 2s - loss: 0.2257 - accuracy: 0.9075 - val_loss: 0.3891 - val_accuracy: 0.8486\n",
      "Epoch 11/20\n",
      "229/229 - 2s - loss: 0.2139 - accuracy: 0.9131 - val_loss: 0.3953 - val_accuracy: 0.8470\n",
      "Epoch 12/20\n",
      "229/229 - 2s - loss: 0.2027 - accuracy: 0.9188 - val_loss: 0.4144 - val_accuracy: 0.8458\n",
      "Epoch 13/20\n",
      "229/229 - 2s - loss: 0.1938 - accuracy: 0.9233 - val_loss: 0.4272 - val_accuracy: 0.8466\n",
      "Epoch 14/20\n",
      "229/229 - 2s - loss: 0.1847 - accuracy: 0.9276 - val_loss: 0.4547 - val_accuracy: 0.8448\n",
      "Epoch 15/20\n",
      "229/229 - 2s - loss: 0.1774 - accuracy: 0.9314 - val_loss: 0.4528 - val_accuracy: 0.8436\n",
      "Epoch 16/20\n",
      "229/229 - 2s - loss: 0.1680 - accuracy: 0.9356 - val_loss: 0.4966 - val_accuracy: 0.8428\n",
      "Epoch 17/20\n",
      "229/229 - 2s - loss: 0.1612 - accuracy: 0.9389 - val_loss: 0.4962 - val_accuracy: 0.8416\n",
      "Epoch 18/20\n",
      "229/229 - 2s - loss: 0.1548 - accuracy: 0.9416 - val_loss: 0.5239 - val_accuracy: 0.8399\n",
      "Epoch 19/20\n",
      "229/229 - 2s - loss: 0.1489 - accuracy: 0.9448 - val_loss: 0.5379 - val_accuracy: 0.8378\n",
      "Epoch 20/20\n",
      "229/229 - 2s - loss: 0.1445 - accuracy: 0.9467 - val_loss: 0.5684 - val_accuracy: 0.8376\n"
     ]
    }
   ],
   "source": [
    "model.compile(optimizer='adam',\n",
    "              loss='binary_crossentropy',\n",
    "              metrics=['accuracy'])\n",
    "              \n",
    "epochs=20  # 몇 epoch를 훈련하면 좋을지 결과를 보면서 바꾸어 봅시다. \n",
    "batch_size=512\n",
    "\n",
    "history = model.fit(X_train,\n",
    "                    y_train,\n",
    "                    epochs=epochs,\n",
    "                    batch_size=batch_size,\n",
    "                    validation_data=(X_val, y_val),\n",
    "                    verbose=2)"
   ]
  },
  {
   "cell_type": "code",
   "execution_count": 22,
   "id": "special-citation",
   "metadata": {
    "scrolled": true
   },
   "outputs": [
    {
     "name": "stdout",
     "output_type": "stream",
     "text": [
      "dict_keys(['loss', 'accuracy', 'val_loss', 'val_accuracy'])\n"
     ]
    },
    {
     "data": {
      "image/png": "[encoded data removed]",
      "text/plain": [
       "<Figure size 432x288 with 1 Axes>"
      ]
     },
     "metadata": {
      "needs_background": "light"
     },
     "output_type": "display_data"
    }
   ],
   "source": [
    "history_dict = history.history\n",
    "print(history_dict.keys()) # epoch에 따른 그래프를 그려볼 수 있는 항목들\n",
    "\n",
    "import matplotlib.pyplot as plt\n",
    "\n",
    "acc = history_dict['accuracy']\n",
    "val_acc = history_dict['val_accuracy']\n",
    "loss = history_dict['loss']\n",
    "val_loss = history_dict['val_loss']\n",
    "\n",
    "epochs = range(1, len(acc) + 1)\n",
    "\n",
    "# \"bo\"는 \"파란색 점\"\n",
    "plt.plot(epochs, loss, 'bo', label='Training loss')\n",
    "# b는 \"파란 실선\"\n",
    "plt.plot(epochs, val_loss, 'b', label='Validation loss')\n",
    "plt.title('Training and validation loss')\n",
    "plt.xlabel('Epochs')\n",
    "plt.ylabel('Loss')\n",
    "plt.legend()\n",
    "\n",
    "plt.show()"
   ]
  },
  {
   "cell_type": "code",
   "execution_count": 23,
   "id": "worst-service",
   "metadata": {},
   "outputs": [
    {
     "data": {
      "image/png": "[encoded data removed]",
      "text/plain": [
       "<Figure size 432x288 with 1 Axes>"
      ]
     },
     "metadata": {
      "needs_background": "light"
     },
     "output_type": "display_data"
    }
   ],
   "source": [
    "plt.clf()   # 그림을 초기화합니다\n",
    "\n",
    "plt.plot(epochs, acc, 'bo', label='Training acc')\n",
    "plt.plot(epochs, val_acc, 'b', label='Validation acc')\n",
    "plt.title('Training and validation accuracy')\n",
    "plt.xlabel('Epochs')\n",
    "plt.ylabel('Accuracy')\n",
    "plt.legend()\n",
    "\n",
    "plt.show()"
   ]
  },
  {
   "cell_type": "markdown",
   "id": "pressed-pricing",
   "metadata": {},
   "source": [
    "## 8) 학습된 Embedding 레이어 분석"
   ]
  },
  {
   "cell_type": "code",
   "execution_count": 24,
   "id": "interior-details",
   "metadata": {},
   "outputs": [
    {
     "name": "stdout",
     "output_type": "stream",
     "text": [
      "(10000, 32)\n"
     ]
    }
   ],
   "source": [
    "embedding_layer = model.layers[0]\n",
    "weights = embedding_layer.get_weights()[0]\n",
    "print(weights.shape) "
   ]
  },
  {
   "cell_type": "code",
   "execution_count": 25,
   "id": "desirable-strain",
   "metadata": {},
   "outputs": [],
   "source": [
    "import os\n",
    "\n",
    "# 학습한 Embedding 파라미터를 파일에 써서 저장\n",
    "word2vec_file_path = os.getenv('HOME')+'/aiffel/sentiment_classification/data/word2vec.txt'\n",
    "f = open(word2vec_file_path, 'w')\n",
    "f.write('{} {}\\n'.format(vocab_size-4, word_vector_dim))  # 몇개의 벡터를 얼마 사이즈로 기재할지 타이틀쓰기\n",
    "\n",
    "# 단어 개수(에서 특수문자 4개는 제외하고)만큼의 워드 벡터를 파일에 기록\n",
    "vectors = model.get_weights()[0]\n",
    "for i in range(4,vocab_size):\n",
    "    f.write('{} {}\\n'.format(index_to_word[i], ' '.join(map(str, list(vectors[i, :])))))\n",
    "f.close()"
   ]
  },
  {
   "cell_type": "code",
   "execution_count": 26,
   "id": "constant-spencer",
   "metadata": {},
   "outputs": [
    {
     "name": "stderr",
     "output_type": "stream",
     "text": [
      "/opt/conda/lib/python3.7/site-packages/gensim/similarities/__init__.py:15: UserWarning: The gensim.similarities.levenshtein submodule is disabled, because the optional Levenshtein package <https://pypi.org/project/python-Levenshtein/> is unavailable. Install Levenhstein (e.g. `pip install python-Levenshtein`) to suppress this warning.\n",
      "  warnings.warn(msg)\n"
     ]
    },
    {
     "data": {
      "text/plain": [
       "array([ 0.01289808, -0.0317429 , -0.01142182,  0.06689011, -0.06549267,\n",
       "       -0.05664063, -0.09751911, -0.00917648,  0.05196648,  0.05618934,\n",
       "       -0.03709642,  0.06766177,  0.00091089, -0.09466499, -0.04806579,\n",
       "       -0.13621396, -0.01736087,  0.04638767,  0.01986431,  0.06154292,\n",
       "        0.11689462, -0.00655601, -0.01892465, -0.1845372 , -0.04197426,\n",
       "       -0.0975717 , -0.05848823,  0.12415095, -0.11531416, -0.04473726,\n",
       "        0.00161791,  0.00573489], dtype=float32)"
      ]
     },
     "execution_count": 26,
     "metadata": {},
     "output_type": "execute_result"
    }
   ],
   "source": [
    "from gensim.models.keyedvectors import Word2VecKeyedVectors\n",
    "\n",
    "word_vectors = Word2VecKeyedVectors.load_word2vec_format(word2vec_file_path, binary=False)\n",
    "vector = word_vectors['영화']\n",
    "vector"
   ]
  },
  {
   "cell_type": "code",
   "execution_count": 27,
   "id": "interstate-ghost",
   "metadata": {
    "scrolled": true
   },
   "outputs": [
    {
     "data": {
      "text/plain": [
       "[('주문', 0.7669399976730347),\n",
       " ('이재은', 0.7520524859428406),\n",
       " ('28', 0.742764949798584),\n",
       " ('K', 0.7242842316627502),\n",
       " ('소설', 0.7204552292823792),\n",
       " ('양조위', 0.7201940417289734),\n",
       " ('미모', 0.7198936343193054),\n",
       " ('올리버', 0.707754373550415),\n",
       " ('로드', 0.7020871639251709),\n",
       " ('매료', 0.7005795240402222)]"
      ]
     },
     "execution_count": 27,
     "metadata": {},
     "output_type": "execute_result"
    }
   ],
   "source": [
    "word_vectors.similar_by_word(\"배우\")"
   ]
  },
  {
   "cell_type": "code",
   "execution_count": 28,
   "id": "composite-premium",
   "metadata": {
    "scrolled": true
   },
   "outputs": [
    {
     "data": {
      "text/plain": [
       "[('레즈', 0.8976573944091797),\n",
       " ('브래드피트', 0.8639897704124451),\n",
       " ('렛', 0.8634160757064819),\n",
       " ('박진영', 0.8577955365180969),\n",
       " ('내고', 0.856255829334259),\n",
       " ('치명', 0.85528564453125),\n",
       " ('련지', 0.8546164035797119),\n",
       " ('파고들', 0.8474782705307007),\n",
       " ('믹', 0.8414535522460938),\n",
       " ('매년', 0.840702474117279)]"
      ]
     },
     "execution_count": 28,
     "metadata": {},
     "output_type": "execute_result"
    }
   ],
   "source": [
    "word_vectors.similar_by_word(\"장르\")"
   ]
  }
 ],
 "metadata": {
  "kernelspec": {
   "display_name": "Python 3",
   "language": "python",
   "name": "python3"
  },
  "language_info": {
   "codemirror_mode": {
    "name": "ipython",
    "version": 3
   },
   "file_extension": ".py",
   "mimetype": "text/x-python",
   "name": "python",
   "nbconvert_exporter": "python",
   "pygments_lexer": "ipython3",
   "version": "3.7.9"
  }
 },
 "nbformat": 4,
 "nbformat_minor": 5
}
